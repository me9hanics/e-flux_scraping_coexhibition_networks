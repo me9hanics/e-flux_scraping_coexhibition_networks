{
 "cells": [
  {
   "cell_type": "markdown",
   "metadata": {},
   "source": [
    "# Gathering artist names"
   ]
  },
  {
   "cell_type": "markdown",
   "metadata": {},
   "source": [
    "The text containing artist names was taken from the JavaScript code of the page, and was saved in the sources file."
   ]
  },
  {
   "cell_type": "code",
   "execution_count": 1,
   "metadata": {},
   "outputs": [],
   "source": [
    "with open('sources/js_artists_curators_all.txt', 'r', encoding=\"utf-8\") as f:\n",
    "    html = f.read()"
   ]
  },
  {
   "cell_type": "markdown",
   "metadata": {},
   "source": [
    "Parse it"
   ]
  },
  {
   "cell_type": "code",
   "execution_count": 2,
   "metadata": {},
   "outputs": [],
   "source": [
    "from bs4 import BeautifulSoup\n",
    "\n",
    "soup = BeautifulSoup(html, 'html.parser')"
   ]
  },
  {
   "cell_type": "code",
   "execution_count": 3,
   "metadata": {},
   "outputs": [
    {
     "name": "stdout",
     "output_type": "stream",
     "text": [
      "<span class=\"filter-item-clickable js-filter-item\" data-filter=\"A.J. Lode Janssens\" data-id=\"1\" data-name=\"p\">\n",
      "<span class=\"filter-item__title\">A.J. Lode Janssens</span> <span class=\"filter-item__size\">1</span></span>\n"
     ]
    }
   ],
   "source": [
    "lines = soup.find_all('span', {'class': 'filter-item-clickable js-filter-item'})\n",
    "print(lines[0])"
   ]
  },
  {
   "cell_type": "markdown",
   "metadata": {},
   "source": [
    "Save the names in a separate file:"
   ]
  },
  {
   "cell_type": "code",
   "execution_count": null,
   "metadata": {},
   "outputs": [],
   "source": [
    "with open('data/eflux_artists.txt', 'w', encoding=\"utf-8\") as f:\n",
    "    f.write('\\n'.join([line['data-filter'] for line in lines]))"
   ]
  }
 ],
 "metadata": {
  "kernelspec": {
   "display_name": "Python 3",
   "language": "python",
   "name": "python3"
  },
  "language_info": {
   "codemirror_mode": {
    "name": "ipython",
    "version": 3
   },
   "file_extension": ".py",
   "mimetype": "text/x-python",
   "name": "python",
   "nbconvert_exporter": "python",
   "pygments_lexer": "ipython3",
   "version": "3.10.11"
  }
 },
 "nbformat": 4,
 "nbformat_minor": 2
}
