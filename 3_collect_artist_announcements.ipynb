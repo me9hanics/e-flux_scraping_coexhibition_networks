{
 "cells": [
  {
   "cell_type": "markdown",
   "metadata": {},
   "source": [
    "# Collect for each artist the announcements, and save them in a file"
   ]
  },
  {
   "cell_type": "markdown",
   "metadata": {},
   "source": [
    "## Initial steps"
   ]
  },
  {
   "cell_type": "code",
   "execution_count": 1,
   "metadata": {},
   "outputs": [],
   "source": [
    "import scraping_functions"
   ]
  },
  {
   "cell_type": "code",
   "execution_count": 2,
   "metadata": {},
   "outputs": [],
   "source": [
    "with open('data/artists_contemporary_cleaned_v1.txt', 'r', encoding='utf-8') as f:\n",
    "    artists_contemporary = f.read().splitlines()\n",
    "\n",
    "with open('data/artists_cleaned_v1.txt', 'r', encoding='utf-8') as f:\n",
    "    artists = f.read().splitlines()"
   ]
  },
  {
   "cell_type": "markdown",
   "metadata": {},
   "source": [
    "## 1) Scrape announcements"
   ]
  },
  {
   "cell_type": "markdown",
   "metadata": {},
   "source": [
    "### 1a) Contemporary announcements only (faster):"
   ]
  },
  {
   "cell_type": "markdown",
   "metadata": {},
   "source": [
    "For a first step, we collect the data for artists in `artists_contemporary_cleaned_v1.txt`? If we just get these types of exhibitions by them, then we only have to use Selenium twice:\n",
    "- \"Contemporary Art\"\n",
    "- \"Data & Information\"\n",
    "- \"Installation\" \n",
    "- \"Mixed Media\"\n",
    "- \"Posthumanism\"\n",
    "- \"Postmodernism\"\n",
    "- \"Technology\"\n",
    "\n",
    "(I'd think these are mostly the contemporary categories on the website, feel free to add more). For these cases, only 2 artists have over 30 exhibitions in these categories: Hans Ulrich Obrist (36) and Olafur Eliasson (34). We can just use simple scraping for other artists.<br>\n",
    "URL for these categories: https://www.e-flux.com/announcements/?c[]=Contemporary%20Art&c[]=Data%20%26%20Information&c[]=Installation&c[]=Mixed%20Media&c[]=Posthumanism&c[]=Postmodernism&c[]=Technology\n"
   ]
  },
  {
   "cell_type": "code",
   "execution_count": 3,
   "metadata": {},
   "outputs": [],
   "source": [
    "artist_announcements_dict=scraping_functions.get_announcements_of_artists_scroll_if_needed(artists_contemporary, contemporary=True)"
   ]
  },
  {
   "cell_type": "markdown",
   "metadata": {},
   "source": [
    "This ran for ~35 minutes, for 8200 artists, only two of them needed scraping via opening the artist page (30+ announcements), the rest via simple HTML response.<br>\n",
    "(Runtime depends more on internet connection than processing power.)"
   ]
  },
  {
   "cell_type": "markdown",
   "metadata": {},
   "source": [
    "Example:"
   ]
  },
  {
   "cell_type": "code",
   "execution_count": 15,
   "metadata": {},
   "outputs": [
    {
     "data": {
      "text/plain": [
       "{'name': 'A.K. Burns',\n",
       " 'announcements': [{'id': 183436,\n",
       "   'link': '/announcements/183436/final-group-of-project-highlights-announced/',\n",
       "   'title_artists': None,\n",
       "   'title': 'Final group of project highlights announced'},\n",
       "  {'id': 164538,\n",
       "   'link': '/announcements/164538/next-artist-shortlist-for-the-bmw-art-journey-announced-during-art-basel-in-miami-beach/',\n",
       "   'title_artists': None,\n",
       "   'title': 'Next artist shortlist for the BMW Art Journey announced during Art Basel in Miami Beach'},\n",
       "  {'id': 78527,\n",
       "   'link': '/announcements/78527/publishing-as-an-artistic-toolbox-1989-2017/',\n",
       "   'title_artists': None,\n",
       "   'title': 'Publishing as an Artistic Toolbox: 1989–2017'}]}"
      ]
     },
     "execution_count": 15,
     "metadata": {},
     "output_type": "execute_result"
    }
   ],
   "source": [
    "artist_announcements_dict[0]"
   ]
  },
  {
   "cell_type": "markdown",
   "metadata": {},
   "source": [
    "Save file:"
   ]
  },
  {
   "cell_type": "code",
   "execution_count": 17,
   "metadata": {},
   "outputs": [],
   "source": [
    "import json\n",
    "\n",
    "with open('data/artist_announcements_dict_contemporary.json', 'w', encoding='utf-8') as f:\n",
    "    json.dump(artist_announcements_dict, f, ensure_ascii=False, indent=1)"
   ]
  },
  {
   "cell_type": "markdown",
   "metadata": {},
   "source": [
    "### 1b) All announcements:"
   ]
  },
  {
   "cell_type": "markdown",
   "metadata": {},
   "source": [
    "**TODO** (Compute)"
   ]
  },
  {
   "cell_type": "code",
   "execution_count": null,
   "metadata": {},
   "outputs": [],
   "source": [
    "artist_announcements_dict=scraping_functions.get_announcements_of_artists_scroll_if_needed(artists_contemporary)"
   ]
  },
  {
   "cell_type": "code",
   "execution_count": null,
   "metadata": {},
   "outputs": [],
   "source": [
    "import json\n",
    "\n",
    "with open('data/artist_announcements_dict.json', 'w', encoding='utf-8') as f:\n",
    "    json.dump(artist_announcements_dict, f, ensure_ascii=False, indent=1)"
   ]
  },
  {
   "cell_type": "markdown",
   "metadata": {},
   "source": [
    "## 2) Create announcement-artist dictionary (the other way around, more useful for us)"
   ]
  },
  {
   "cell_type": "markdown",
   "metadata": {},
   "source": [
    "### 2a) Contemporary announcements only:"
   ]
  },
  {
   "cell_type": "code",
   "execution_count": 60,
   "metadata": {},
   "outputs": [],
   "source": [
    "with open('data/artist_announcements_dict_contemporary.json', 'r', encoding='utf-8') as f:\n",
    "    artist_announcements_dict_contemporary = json.load(f)\n",
    "\n",
    "#with open('data/artist_announcements_dict.json', 'r', encoding='utf-8') as f:\n",
    "    #artist_announcements_dict = json.load(f)"
   ]
  },
  {
   "cell_type": "code",
   "execution_count": 61,
   "metadata": {},
   "outputs": [
    {
     "data": {
      "text/plain": [
       "{'name': 'A.K. Burns',\n",
       " 'announcements': [{'id': 183436,\n",
       "   'link': '/announcements/183436/final-group-of-project-highlights-announced/',\n",
       "   'title_artists': None,\n",
       "   'title': 'Final group of project highlights announced'},\n",
       "  {'id': 164538,\n",
       "   'link': '/announcements/164538/next-artist-shortlist-for-the-bmw-art-journey-announced-during-art-basel-in-miami-beach/',\n",
       "   'title_artists': None,\n",
       "   'title': 'Next artist shortlist for the BMW Art Journey announced during Art Basel in Miami Beach'},\n",
       "  {'id': 78527,\n",
       "   'link': '/announcements/78527/publishing-as-an-artistic-toolbox-1989-2017/',\n",
       "   'title_artists': None,\n",
       "   'title': 'Publishing as an Artistic Toolbox: 1989–2017'}]}"
      ]
     },
     "execution_count": 61,
     "metadata": {},
     "output_type": "execute_result"
    }
   ],
   "source": [
    "artist_announcements_dict_contemporary[0]"
   ]
  },
  {
   "cell_type": "code",
   "execution_count": 62,
   "metadata": {},
   "outputs": [],
   "source": [
    "announcements_contemporary = [announcement for artist in artist_announcements_dict_contemporary for announcement in artist['announcements'] if announcement]"
   ]
  },
  {
   "cell_type": "markdown",
   "metadata": {},
   "source": [
    "Remove duplicates (simple way)"
   ]
  },
  {
   "cell_type": "code",
   "execution_count": 63,
   "metadata": {},
   "outputs": [],
   "source": [
    "announcements_contemporary = [announcement for i, announcement in enumerate(announcements_contemporary) if announcement not in announcements_contemporary[:i]]"
   ]
  },
  {
   "cell_type": "code",
   "execution_count": 64,
   "metadata": {},
   "outputs": [
    {
     "data": {
      "text/plain": [
       "3549"
      ]
     },
     "execution_count": 64,
     "metadata": {},
     "output_type": "execute_result"
    }
   ],
   "source": [
    "len(announcements_contemporary)"
   ]
  },
  {
   "cell_type": "code",
   "execution_count": 65,
   "metadata": {},
   "outputs": [],
   "source": [
    "import copy\n",
    "\n",
    "announcements_dict_contemporary = {announcement['id']: copy.deepcopy(announcement) for announcement in announcements_contemporary}\n",
    "for key, value in announcements_dict_contemporary.items():\n",
    "    del value['id']\n",
    "for key, value in announcements_dict_contemporary.items():\n",
    "    value['artists'] = []"
   ]
  },
  {
   "cell_type": "code",
   "execution_count": 68,
   "metadata": {},
   "outputs": [],
   "source": [
    "for artist in artist_announcements_dict_contemporary:\n",
    "    for announcement in artist['announcements']:\n",
    "        id = announcement['id']\n",
    "        announcements_dict_contemporary[id]['artists'] += [artist['name']]"
   ]
  },
  {
   "cell_type": "code",
   "execution_count": 71,
   "metadata": {},
   "outputs": [
    {
     "data": {
      "text/plain": [
       "{'link': '/announcements/164538/next-artist-shortlist-for-the-bmw-art-journey-announced-during-art-basel-in-miami-beach/',\n",
       " 'title_artists': None,\n",
       " 'title': 'Next artist shortlist for the BMW Art Journey announced during Art Basel in Miami Beach',\n",
       " 'artists': ['A.K. Burns',\n",
       "  'BMW',\n",
       "  'ICA',\n",
       "  'Jamal Cyrus',\n",
       "  'LACMA',\n",
       "  'Mariela Scafati',\n",
       "  'MOCAD']}"
      ]
     },
     "execution_count": 71,
     "metadata": {},
     "output_type": "execute_result"
    }
   ],
   "source": [
    "announcements_dict_contemporary[164538]"
   ]
  },
  {
   "cell_type": "markdown",
   "metadata": {},
   "source": [
    "Save file:"
   ]
  },
  {
   "cell_type": "code",
   "execution_count": 72,
   "metadata": {},
   "outputs": [],
   "source": [
    "with open('data/announcements_contemporary.json', 'w', encoding='utf-8') as f:\n",
    "    json.dump(announcements_dict_contemporary, f, ensure_ascii=False, indent=1)"
   ]
  },
  {
   "cell_type": "markdown",
   "metadata": {},
   "source": [
    "### 2b) All announcements:"
   ]
  },
  {
   "cell_type": "markdown",
   "metadata": {},
   "source": [
    "**TODO** (Compute)"
   ]
  }
 ],
 "metadata": {
  "kernelspec": {
   "display_name": "Python 3",
   "language": "python",
   "name": "python3"
  },
  "language_info": {
   "codemirror_mode": {
    "name": "ipython",
    "version": 3
   },
   "file_extension": ".py",
   "mimetype": "text/x-python",
   "name": "python",
   "nbconvert_exporter": "python",
   "pygments_lexer": "ipython3",
   "version": "3.10.11"
  }
 },
 "nbformat": 4,
 "nbformat_minor": 2
}
