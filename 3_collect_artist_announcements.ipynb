{
 "cells": [
  {
   "cell_type": "markdown",
   "metadata": {},
   "source": [
    "# Collect for each artist the announcements, and save them in a file"
   ]
  },
  {
   "cell_type": "markdown",
   "metadata": {},
   "source": [
    "## Initial steps"
   ]
  },
  {
   "cell_type": "code",
   "execution_count": 1,
   "metadata": {},
   "outputs": [],
   "source": [
    "import scraping_functions"
   ]
  },
  {
   "cell_type": "code",
   "execution_count": 2,
   "metadata": {},
   "outputs": [],
   "source": [
    "with open('data/artists_contemporary_cleaned_v1.txt', 'r', encoding='utf-8') as f:\n",
    "    artists_contemporary = f.read().splitlines()\n",
    "\n",
    "with open('data/artists_cleaned_v1.txt', 'r', encoding='utf-8') as f:\n",
    "    artists = f.read().splitlines()"
   ]
  },
  {
   "cell_type": "markdown",
   "metadata": {},
   "source": [
    "## 1) Scrape announcements"
   ]
  },
  {
   "cell_type": "markdown",
   "metadata": {},
   "source": [
    "### 1a) Contemporary announcements only (faster):"
   ]
  },
  {
   "cell_type": "markdown",
   "metadata": {},
   "source": [
    "For a first step, we collect the data for artists in `artists_contemporary_cleaned_v1.txt`? If we just get these types of exhibitions by them, then we only have to use Selenium twice:\n",
    "- \"Contemporary Art\"\n",
    "- \"Data & Information\"\n",
    "- \"Installation\" \n",
    "- \"Mixed Media\"\n",
    "- \"Posthumanism\"\n",
    "- \"Postmodernism\"\n",
    "- \"Technology\"\n",
    "\n",
    "(I'd think these are mostly the contemporary categories on the website, feel free to add more). For these cases, only 2 artists have over 30 exhibitions in these categories: Hans Ulrich Obrist (36) and Olafur Eliasson (34). We can just use simple scraping for other artists.<br>\n",
    "URL for these categories: https://www.e-flux.com/announcements/?c[]=Contemporary%20Art&c[]=Data%20%26%20Information&c[]=Installation&c[]=Mixed%20Media&c[]=Posthumanism&c[]=Postmodernism&c[]=Technology\n"
   ]
  },
  {
   "cell_type": "code",
   "execution_count": 3,
   "metadata": {},
   "outputs": [
    {
     "name": "stdout",
     "output_type": "stream",
     "text": [
      "Problem with amount of subtitles for:Adam Avikainen\n",
      "Problem with amount of subtitles for:Anselm Franke\n",
      "Problem with amount of subtitles for:Antje Ehmann\n",
      "Problem with amount of subtitles for:Armin Linke\n",
      "Problem with amount of subtitles for:Ayse Erkmen\n",
      "Problem with amount of subtitles for:Britta Heinrich\n",
      "Problem with amount of subtitles for:C.T. Jasper\n",
      "Problem with amount of subtitles for:Ceal Floyer\n",
      "Problem with amount of subtitles for:David Lamelas\n",
      "Problem with amount of subtitles for:Dirk van den Heuvel\n",
      "Problem with amount of subtitles for:Eija-Liisa Ahtila\n",
      "Problem with amount of subtitles for:Enrico David\n",
      "Problem with amount of subtitles for:Francis Cape\n",
      "Problem with amount of subtitles for:Gerhard Richter\n",
      "Problem with amount of subtitles for:Guus Beumer\n",
      "Problem with amount of subtitles for:Harun Farocki\n",
      "Problem with amount of subtitles for:Jaap Bakema\n",
      "Problem with amount of subtitles for:Jean-Marc Prevost\n",
      "Problem with amount of subtitles for:Joanna Malinowska\n",
      "Problem with amount of subtitles for:John Bock\n",
      "Problem with amount of subtitles for:Michał Jachuła\n",
      "Problem with amount of subtitles for:Nikola Dietrich\n",
      "Problem with amount of subtitles for:Suzanne Lafont\n",
      "Problem with amount of subtitles for:The Otolith Group\n",
      "Problem with amount of subtitles for:Thomas Hauschild\n",
      "Problem with amount of subtitles for:Tobias Rehberger\n",
      "Problem with amount of subtitles for:Valerie Smith\n",
      "Problem with amount of subtitles for:Willem de Rooij\n",
      "Problem with amount of subtitles for:​Territorial Agency\n"
     ]
    }
   ],
   "source": [
    "artist_announcements_dict=scraping_functions.get_announcements_of_artists_scroll_if_needed(artists_contemporary, contemporary=True)"
   ]
  },
  {
   "cell_type": "markdown",
   "metadata": {},
   "source": [
    "This ran for ~35 minutes, for 8200 artists, only two of them needed scraping via opening the artist page (30+ announcements), the rest via simple HTML response.<br>\n",
    "(Runtime depends more on internet connection than processing power.)"
   ]
  },
  {
   "cell_type": "markdown",
   "metadata": {},
   "source": [
    "Example:"
   ]
  },
  {
   "cell_type": "code",
   "execution_count": 4,
   "metadata": {},
   "outputs": [
    {
     "data": {
      "text/plain": [
       "{'name': 'A.K. Burns',\n",
       " 'announcements': [{'id': 183436,\n",
       "   'link': '/announcements/183436/final-group-of-project-highlights-announced/',\n",
       "   'title_artists': None,\n",
       "   'title': 'Final group of project highlights announced',\n",
       "   'subtitle': 'FRONT International: Cleveland Triennial for Contemporary Art',\n",
       "   'announcement_date': 'March 17, 2018'},\n",
       "  {'id': 164538,\n",
       "   'link': '/announcements/164538/next-artist-shortlist-for-the-bmw-art-journey-announced-during-art-basel-in-miami-beach/',\n",
       "   'title_artists': None,\n",
       "   'title': 'Next artist shortlist for the BMW Art Journey announced during Art Basel in Miami Beach',\n",
       "   'subtitle': 'Art Basel Miami Beach',\n",
       "   'announcement_date': 'December 9, 2017'},\n",
       "  {'id': 78527,\n",
       "   'link': '/announcements/78527/publishing-as-an-artistic-toolbox-1989-2017/',\n",
       "   'title_artists': None,\n",
       "   'title': 'Publishing as an Artistic Toolbox: 1989–2017',\n",
       "   'subtitle': 'Kunsthalle Wien',\n",
       "   'announcement_date': 'October 18, 2017'}]}"
      ]
     },
     "execution_count": 4,
     "metadata": {},
     "output_type": "execute_result"
    }
   ],
   "source": [
    "artist_announcements_dict[0]"
   ]
  },
  {
   "cell_type": "markdown",
   "metadata": {},
   "source": [
    "Save file:"
   ]
  },
  {
   "cell_type": "code",
   "execution_count": 5,
   "metadata": {},
   "outputs": [],
   "source": [
    "import json\n",
    "\n",
    "with open('data/artist_announcements_dict_contemporary.json', 'w', encoding='utf-8') as f:\n",
    "    json.dump(artist_announcements_dict, f, ensure_ascii=False, indent=1)"
   ]
  },
  {
   "cell_type": "markdown",
   "metadata": {},
   "source": [
    "### 1b) All announcements:"
   ]
  },
  {
   "cell_type": "code",
   "execution_count": 3,
   "metadata": {},
   "outputs": [
    {
     "name": "stdout",
     "output_type": "stream",
     "text": [
      "Problem with amount of subtitles for:Adam Avikainen\n",
      "Problem with amount of subtitles for:Adam Budak\n",
      "Problem with amount of subtitles for:Adel Abdessemed\n",
      "Problem with amount of subtitles for:Adrian Piper\n",
      "Problem with amount of subtitles for:Adrien Tirtiaux\n",
      "Problem with amount of subtitles for:Aernout Mik\n",
      "Problem with amount of subtitles for:Agnes Denes\n",
      "Problem with amount of subtitles for:Agnes Martin\n",
      "Problem with amount of subtitles for:Agnieszka Kurant\n",
      "Problem with amount of subtitles for:Alan Uglow\n",
      "Problem with amount of subtitles for:Aleksandra Wasilkowska\n",
      "Problem with amount of subtitles for:Alessandro Rabottini\n",
      "Problem with amount of subtitles for:Alexander Stublic\n",
      "Problem with amount of subtitles for:Ali Kazma\n",
      "Problem with amount of subtitles for:Alice Neel\n",
      "Problem with amount of subtitles for:Allan Kaprow\n",
      "Problem with amount of subtitles for:Allan Sekula\n",
      "Problem with amount of subtitles for:Andrea Faciu\n",
      "Problem with amount of subtitles for:Andrea Viliani\n",
      "Problem with amount of subtitles for:Anita Seppä\n",
      "Problem with amount of subtitles for:Anna Bálványos\n",
      "Problem with amount of subtitles for:Anna Hazare\n",
      "Problem with amount of subtitles for:Anna Hyatt Huntington\n",
      "Problem with amount of subtitles for:Anri Sala\n",
      "Problem with amount of subtitles for:Anselm Franke\n",
      "Problem with amount of subtitles for:Antal Lakner\n",
      "Problem with amount of subtitles for:Antje Ehmann\n",
      "Problem with amount of subtitles for:Aram Bartholl\n",
      "Problem with amount of subtitles for:Ari Benjamin Meyers\n",
      "Problem with amount of subtitles for:Armin Linke\n",
      "Problem with amount of subtitles for:Arnaud De Wolf\n",
      "Problem with amount of subtitles for:Atif Akin\n",
      "Problem with amount of subtitles for:Attila Boa\n",
      "Problem with amount of subtitles for:Avner Ben-Gal\n",
      "Problem with amount of subtitles for:Ayse Erkmen\n",
      "Problem with amount of subtitles for:BP\n",
      "Problem with amount of subtitles for:Barbara Rose\n",
      "Problem with amount of subtitles for:Bartholomew Ryan\n",
      "Problem with amount of subtitles for:Bartosz Kowal\n",
      "Problem with amount of subtitles for:Bartłomiej Poteralski\n",
      "Problem with amount of subtitles for:Basak Senova\n",
      "Problem with amount of subtitles for:Basel\n",
      "Problem with amount of subtitles for:Ben Benaouisse\n",
      "Problem with amount of subtitles for:Ben Vandenberghe\n",
      "Problem with amount of subtitles for:Berkay Tuncay\n",
      "Problem with amount of subtitles for:Bernd\n",
      "Problem with amount of subtitles for:Bettina Pousttchi\n",
      "Problem with amount of subtitles for:Board\n",
      "Problem with amount of subtitles for:Bojana Piškur\n",
      "Problem with amount of subtitles for:Boris Groys\n",
      "Problem with amount of subtitles for:Brad Buckley\n",
      "Problem with amount of subtitles for:Branka Stipančić\n",
      "Problem with amount of subtitles for:Brian Kuan Wood\n",
      "Problem with amount of subtitles for:Britta Heinrich\n",
      "Problem with amount of subtitles for:Bruce Nauman\n",
      "Problem with amount of subtitles for:Bruno Serralongue\n",
      "Problem with amount of subtitles for:C.T. Jasper\n",
      "Problem with amount of subtitles for:Cady Noland\n",
      "Problem with amount of subtitles for:Candice Breitz\n",
      "Problem with amount of subtitles for:Carl Andre\n",
      "Problem with amount of subtitles for:Carl Larsson\n",
      "Problem with amount of subtitles for:Carlos Aires\n",
      "Problem with amount of subtitles for:Carol Bove\n",
      "Problem with amount of subtitles for:Carolin Emcke\n",
      "Problem with amount of subtitles for:Catriona Leahy\n",
      "Problem with amount of subtitles for:Ceal Floyer\n",
      "Problem with amount of subtitles for:Cecily Brown\n",
      "Problem with amount of subtitles for:Chantal Akerman\n",
      "Problem with amount of subtitles for:Chiara Bertola\n",
      "Problem with amount of subtitles for:Chris Gilbert\n",
      "Problem with amount of subtitles for:Chris Marker\n",
      "Problem with amount of subtitles for:Chris Oﬁli\n",
      "Problem with amount of subtitles for:Christiane Kühl\n",
      "Problem with amount of subtitles for:Christo\n",
      "Problem with amount of subtitles for:Christophe Girot\n",
      "Problem with amount of subtitles for:Christopher Williams\n",
      "Problem with amount of subtitles for:Chuck Close\n",
      "Problem with amount of subtitles for:Cindy Sherman\n",
      "Problem with amount of subtitles for:Claes Oldenburg\n",
      "Problem with amount of subtitles for:Claire Bishop\n",
      "Problem with amount of subtitles for:Colin Waeghe\n",
      "Problem with amount of subtitles for:Constance Lewallen\n",
      "Problem with amount of subtitles for:Coosje Van Bruggen\n",
      "Problem with amount of subtitles for:Cydney Payton\n",
      "Problem with amount of subtitles for:DFA\n",
      "Problem with amount of subtitles for:Dan Flavin\n",
      "Problem with amount of subtitles for:Dan Graham\n",
      "Problem with amount of subtitles for:Dan Perjovschi\n",
      "Problem with amount of subtitles for:Danica Dakić\n",
      "Problem with amount of subtitles for:Daniel Birnbaum\n",
      "Problem with amount of subtitles for:Daniel Knorr\n",
      "Problem with amount of subtitles for:Daniele Balit\n",
      "Problem with amount of subtitles for:David Lamelas\n",
      "Problem with amount of subtitles for:David Medalla\n",
      "Problem with amount of subtitles for:David Zwirner\n",
      "Problem with amount of subtitles for:Debra Solomon\n",
      "Problem with amount of subtitles for:Deimantas Narkevičius\n",
      "Problem with amount of subtitles for:Diana Baldon\n",
      "Problem with amount of subtitles for:Didier Faustino\n",
      "Problem with amount of subtitles for:Dirk Luckow\n",
      "Problem with amount of subtitles for:Dirk van den Heuvel\n",
      "Problem with amount of subtitles for:Donald Judd\n",
      "Problem with amount of subtitles for:Dora Maurer\n",
      "Problem with amount of subtitles for:ETH Zürich\n",
      "Problem with amount of subtitles for:Ed Ruscha\n",
      "Problem with amount of subtitles for:Eija-Liisa Ahtila\n",
      "Problem with amount of subtitles for:Ekaterina Degot\n",
      "Problem with amount of subtitles for:Elias Redstone\n",
      "Problem with amount of subtitles for:Elisabeth Millqvist\n",
      "Problem with amount of subtitles for:Elizabeth Peyton\n",
      "Problem with amount of subtitles for:Elizabeth Thomas\n",
      "Problem with amount of subtitles for:Elke Krasny\n",
      "Problem with amount of subtitles for:Emma Hedditch\n",
      "Problem with amount of subtitles for:Emre Baykal\n",
      "Problem with amount of subtitles for:Enrico David\n",
      "Problem with amount of subtitles for:Eric Joris\n",
      "Problem with amount of subtitles for:Eva Maria Stadler\n",
      "Problem with amount of subtitles for:Eva Spierenburg\n",
      "Problem with amount of subtitles for:Eyal Weizman\n",
      "Problem with amount of subtitles for:Felix Nybergh\n",
      "Problem with amount of subtitles for:Felix Vogel\n",
      "Problem with amount of subtitles for:Ferenc Gróf\n",
      "Problem with amount of subtitles for:Florian Dombois\n",
      "Problem with amount of subtitles for:Francis Alÿs\n",
      "Problem with amount of subtitles for:Francis Cape\n",
      "Problem with amount of subtitles for:Fredrik Söderberg\n",
      "Problem with amount of subtitles for:Friedl Kubelka\n",
      "Problem with amount of subtitles for:GAM\n",
      "Problem with amount of subtitles for:Gabriel Rico Jiménez\n",
      "Problem with amount of subtitles for:Gail Pickering\n",
      "Problem with amount of subtitles for:George Kuchar\n",
      "Problem with amount of subtitles for:Gerald Matt\n",
      "Problem with amount of subtitles for:Gerhard Richter\n",
      "Problem with amount of subtitles for:Giulio Paolini\n",
      "Problem with amount of subtitles for:Glen Helfand\n",
      "Problem with amount of subtitles for:Glenn Ligon\n",
      "Problem with amount of subtitles for:Gordon Matta-Clark\n",
      "Problem with amount of subtitles for:Goshka Macuga\n",
      "Problem with amount of subtitles for:Greet Van Autgaerden\n",
      "Problem with amount of subtitles for:Griet Moors\n",
      "Problem with amount of subtitles for:Guillermo Santamarina\n",
      "Problem with amount of subtitles for:Gus Van Sant\n",
      "Problem with amount of subtitles for:Guus Beumer\n",
      "Problem with amount of subtitles for:Guy Ben-Ner\n",
      "Problem with amount of subtitles for:Hadassah Emmerich\n",
      "Problem with amount of subtitles for:Hamed Khosravi\n",
      "Problem with amount of subtitles for:Hanna Wróblewska\n",
      "Problem with amount of subtitles for:Hannah Higgins\n",
      "Problem with amount of subtitles for:Hannah Villiger\n",
      "Problem with amount of subtitles for:Hanne Darboven\n",
      "Problem with amount of subtitles for:Hannes Bend\n",
      "Problem with amount of subtitles for:Hans-Peter Feldmann\n",
      "Problem with amount of subtitles for:Haris Epaminonda\n",
      "Problem with amount of subtitles for:Harun Farocki\n",
      "Problem with amount of subtitles for:Hashim Sarkis\n",
      "Problem with amount of subtitles for:Hedwig Saxenhuber\n",
      "Problem with amount of subtitles for:Heidi Zuckerman Jacobson\n",
      "Problem with amount of subtitles for:Helena Holmberg\n",
      "Problem with amount of subtitles for:Henk Slager\n",
      "Problem with amount of subtitles for:Het Nieuwe Instituut\n",
      "Problem with amount of subtitles for:Hila Peleg\n",
      "Problem with amount of subtitles for:Hilla Becher\n",
      "Problem with amount of subtitles for:Hito Steyerl\n",
      "Problem with amount of subtitles for:Hou Hanru\n",
      "Problem with amount of subtitles for:Hsiang-Lu Meng\n",
      "Problem with amount of subtitles for:IUAV\n",
      "Problem with amount of subtitles for:Ilse Lafer\n",
      "Problem with amount of subtitles for:Inci Eviner\n",
      "Problem with amount of subtitles for:Ines Schaber\n",
      "Problem with amount of subtitles for:Ion Grigorescu\n",
      "Problem with amount of subtitles for:Irene Hediger\n",
      "Problem with amount of subtitles for:Ivan Grubanov\n",
      "Problem with amount of subtitles for:Jaap Bakema\n",
      "Problem with amount of subtitles for:Jack Persekian\n",
      "Problem with amount of subtitles for:Jakob Kolding\n",
      "Problem with amount of subtitles for:Jakub Woynarowski\n",
      "Problem with amount of subtitles for:Jalal Toufic\n",
      "Problem with amount of subtitles for:James Benning\n",
      "Problem with amount of subtitles for:James Ensor\n",
      "Problem with amount of subtitles for:James Rosenquist\n",
      "Problem with amount of subtitles for:Jan Hoet\n",
      "Problem with amount of subtitles for:Jan Svenungsson\n",
      "Problem with amount of subtitles for:Jane Mi\n",
      "Problem with amount of subtitles for:Jaroslaw Lubiak\n",
      "Problem with amount of subtitles for:Jarosław Suchan\n",
      "Problem with amount of subtitles for:Jasmina Cibic\n",
      "Problem with amount of subtitles for:Jason Rhoades\n",
      "Problem with amount of subtitles for:Jasper Johns\n",
      "Problem with amount of subtitles for:Javier Velazquez\n",
      "Problem with amount of subtitles for:Jean-Baptiste Naudy\n",
      "Problem with amount of subtitles for:Jean-Marc Prevost\n",
      "Problem with amount of subtitles for:Jeanne Van Heeswijk\n",
      "Problem with amount of subtitles for:Jeanno Gaussi\n",
      "Problem with amount of subtitles for:Jeff Koons\n",
      "Problem with amount of subtitles for:Jessica Mein\n",
      "Problem with amount of subtitles for:Jessie Brennan\n",
      "Problem with amount of subtitles for:Jim Nutt\n",
      "Problem with amount of subtitles for:Joanna Malinowska\n",
      "Problem with amount of subtitles for:Joanna Ritt\n",
      "Problem with amount of subtitles for:Joanna Sokołowska\n",
      "Problem with amount of subtitles for:John Akomfrah\n",
      "Problem with amount of subtitles for:John Bock\n",
      "Problem with amount of subtitles for:John Chamberlain\n",
      "Problem with amount of subtitles for:John McCracken\n",
      "Problem with amount of subtitles for:John Miller\n",
      "Problem with amount of subtitles for:Jonas Staal\n",
      "Problem with amount of subtitles for:Joseph Beuys\n",
      "Problem with amount of subtitles for:Joseph Kosuth\n",
      "Problem with amount of subtitles for:Julian Heynen\n",
      "Problem with amount of subtitles for:Julio César Morales\n",
      "Problem with amount of subtitles for:Kamil Kuskowski\n",
      "Problem with amount of subtitles for:Karen Sargsyan\n",
      "Problem with amount of subtitles for:Karen Vermeren\n",
      "Problem with amount of subtitles for:Karin Sander\n",
      "Problem with amount of subtitles for:Karl Larsson\n",
      "Problem with amount of subtitles for:Karolina Bregula\n",
      "Problem with amount of subtitles for:Katalin Timár\n",
      "Problem with amount of subtitles for:Katarzyna Krakowiak\n",
      "Problem with amount of subtitles for:Kate Bush\n",
      "Problem with amount of subtitles for:Katharina Grosse\n",
      "Problem with amount of subtitles for:Katja Blomberg\n",
      "Problem with amount of subtitles for:Katleen Vinck\n",
      "Problem with amount of subtitles for:Kazimir Malevich\n",
      "Problem with amount of subtitles for:Keith Haring\n",
      "Problem with amount of subtitles for:Kelley Walker\n",
      "Problem with amount of subtitles for:Kevin Nieuwenhuijs\n",
      "Problem with amount of subtitles for:Kim Einarsson\n",
      "Problem with amount of subtitles for:Kirstine Roepstorff\n",
      "Problem with amount of subtitles for:Kristina Buch\n",
      "Problem with amount of subtitles for:Krisztina Fazekas-Kielbassa\n",
      "Problem with amount of subtitles for:Krisztina Szipőcs\n",
      "Problem with amount of subtitles for:LAb\n",
      "Problem with amount of subtitles for:LaToya Ruby Frazier\n",
      "Problem with amount of subtitles for:Lasse Schmidt Hansen\n",
      "Problem with amount of subtitles for:Laura Bardier\n",
      "Problem with amount of subtitles for:Laura Nsengiyumva\n",
      "Problem with amount of subtitles for:Leni Hoffmann\n",
      "Problem with amount of subtitles for:Lennart Rieder\n",
      "Problem with amount of subtitles for:Liesbet Grupping\n",
      "Problem with amount of subtitles for:Liesje De Laet\n",
      "Problem with amount of subtitles for:Loredana Bianconi\n",
      "Problem with amount of subtitles for:Lorenzo Benedetti\n",
      "Problem with amount of subtitles for:Lorenzo Quintanilla\n",
      "Problem with amount of subtitles for:Louise Bourgeois\n",
      "Problem with amount of subtitles for:Luc Tuymans\n",
      "Problem with amount of subtitles for:Lucio Fontana\n",
      "Problem with amount of subtitles for:Lukasz Ronduda\n",
      "Problem with amount of subtitles for:MFA\n",
      "Problem with amount of subtitles for:MIT\n",
      "Problem with amount of subtitles for:Maeve Connolly\n",
      "Problem with amount of subtitles for:Magdalena Ziolkowska\n",
      "Problem with amount of subtitles for:Magnus Bärtås\n",
      "Problem with amount of subtitles for:Malkit Shoshan\n",
      "Problem with amount of subtitles for:Mamma Andersson\n",
      "Problem with amount of subtitles for:Marcel Broodthaers\n",
      "Problem with amount of subtitles for:Marcel Duchamp\n",
      "Problem with amount of subtitles for:Marcel Dzama\n",
      "Problem with amount of subtitles for:Maria Mc Kinney\n",
      "Problem with amount of subtitles for:Maria Morganti\n",
      "Problem with amount of subtitles for:Mariateresa Sartori\n",
      "Problem with amount of subtitles for:Marie- Claire Krell\n",
      "Problem with amount of subtitles for:Marion von Osten\n",
      "Problem with amount of subtitles for:Marjetica Potrč\n",
      "Problem with amount of subtitles for:Mark Manders\n",
      "Problem with amount of subtitles for:Mark Tobey\n",
      "Problem with amount of subtitles for:Marlene Dumas\n",
      "Problem with amount of subtitles for:Marta Jecu\n",
      "Problem with amount of subtitles for:Martin Kippenberger\n",
      "Problem with amount of subtitles for:Martin Kollar\n",
      "Problem with amount of subtitles for:Mary Ellyn Johnson\n",
      "Problem with amount of subtitles for:Marysia Lewandowska\n",
      "Problem with amount of subtitles for:María Amalia García\n",
      "Problem with amount of subtitles for:Massimo Grimaldi\n",
      "Problem with amount of subtitles for:Matthew Buckingham\n",
      "Problem with amount of subtitles for:Matthieu Laurette\n",
      "Problem with amount of subtitles for:Maurizio Mochetti\n",
      "Problem with amount of subtitles for:Małgorzata Kuciewicz\n",
      "Problem with amount of subtitles for:Meggy Rustamova\n",
      "Problem with amount of subtitles for:Michael Riedel\n",
      "Problem with amount of subtitles for:Michał Jachuła\n",
      "Problem with amount of subtitles for:Michelle Grabner\n",
      "Problem with amount of subtitles for:Mick Wilson\n",
      "Problem with amount of subtitles for:Mieke Bal\n",
      "Problem with amount of subtitles for:Mika Hannula\n",
      "Problem with amount of subtitles for:Mike Crane\n",
      "Problem with amount of subtitles for:Mike Kelley\n",
      "Problem with amount of subtitles for:Mirabela Jurczenko\n",
      "Problem with amount of subtitles for:Mladen  Stilinović\n",
      "Problem with amount of subtitles for:MoMA\n",
      "Problem with amount of subtitles for:Morgan Fisher\n",
      "Problem with amount of subtitles for:Morgane Vie\n",
      "Problem with amount of subtitles for:Murat Tabanlıoğlu\n",
      "Problem with amount of subtitles for:NCCA\n",
      "Problem with amount of subtitles for:Nadia Marcin\n",
      "Problem with amount of subtitles for:Nanna Debois Buhl\n",
      "Problem with amount of subtitles for:Nicholas Serota\n",
      "Problem with amount of subtitles for:Nicolas Grenier\n",
      "Problem with amount of subtitles for:Nika Autor\n",
      "Problem with amount of subtitles for:Nikola Dietrich\n",
      "Problem with amount of subtitles for:Nikolett Erőss\n",
      "Problem with amount of subtitles for:Nina Möntmann\n",
      "Problem with amount of subtitles for:Norman Foster\n",
      "Problem with amount of subtitles for:Nova Jiang\n",
      "Problem with amount of subtitles for:Okwui Enwezor\n",
      "Problem with amount of subtitles for:Olivier Debroise\n",
      "Problem with amount of subtitles for:On Kawara\n",
      "Problem with amount of subtitles for:Paul McCarthy\n",
      "Problem with amount of subtitles for:Paula Cooper\n",
      "Problem with amount of subtitles for:Petra Bauer\n",
      "Problem with amount of subtitles for:Phil Collins\n",
      "Problem with amount of subtitles for:Philippe Van Cauteren\n",
      "Problem with amount of subtitles for:Pierre Huyghe\n",
      "Problem with amount of subtitles for:RU\n",
      "Problem with amount of subtitles for:Rachel Whiteread\n",
      "Problem with amount of subtitles for:Rafael Lozano-Hemmer\n",
      "Problem with amount of subtitles for:Rasheed Araeen\n",
      "Problem with amount of subtitles for:Raymond Pettibon\n",
      "Problem with amount of subtitles for:Richard Long\n",
      "Problem with amount of subtitles for:Richard Serra\n",
      "Problem with amount of subtitles for:Richard Shiff\n",
      "Problem with amount of subtitles for:Rirkrit Tiravanija\n",
      "Problem with amount of subtitles for:Robert Gober\n",
      "Problem with amount of subtitles for:Robert Kuśmirowski\n",
      "Problem with amount of subtitles for:Robert Rauschenberg\n",
      "Problem with amount of subtitles for:Rodney Graham\n",
      "Problem with amount of subtitles for:Roni Horn\n",
      "Problem with amount of subtitles for:Rosalind Nashashibi\n",
      "Problem with amount of subtitles for:Roy Ascott\n",
      "Problem with amount of subtitles for:Rudi Fuchs\n",
      "Problem with amount of subtitles for:Rudolf Stingel\n",
      "Problem with amount of subtitles for:Runo Lagomarsino\n",
      "Problem with amount of subtitles for:SFAI\n",
      "Problem with amount of subtitles for:Sabine Himmelsbach\n",
      "Problem with amount of subtitles for:Sanja Iveković\n",
      "Problem with amount of subtitles for:Sean Snyder\n",
      "Problem with amount of subtitles for:Shahzia Sikander\n",
      "Problem with amount of subtitles for:Sheikha Hoor Al Qasimi\n",
      "Problem with amount of subtitles for:Sherrie Levine\n",
      "Problem with amount of subtitles for:Simon Sheikh\n",
      "Problem with amount of subtitles for:Simon Starling\n",
      "Problem with amount of subtitles for:Sol LeWitt\n",
      "Problem with amount of subtitles for:Sreshta Rit Premnath\n",
      "Problem with amount of subtitles for:Stan Douglas\n",
      "Problem with amount of subtitles for:Stef Van Bellingen\n",
      "Problem with amount of subtitles for:Susan Hiller\n",
      "Problem with amount of subtitles for:Suzanne Hudson\n",
      "Problem with amount of subtitles for:Suzanne Lafont\n",
      "Problem with amount of subtitles for:Tacita Dean\n",
      "Problem with amount of subtitles for:The Otolith Group\n",
      "Problem with amount of subtitles for:Thomas Hauschild\n",
      "Problem with amount of subtitles for:Thomas Ruff\n",
      "Problem with amount of subtitles for:Thomas Weski\n",
      "Problem with amount of subtitles for:Tim Etchells\n",
      "Problem with amount of subtitles for:Tim Griffin\n",
      "Problem with amount of subtitles for:Tino Sehgal\n",
      "Problem with amount of subtitles for:Tobias Rehberger\n",
      "Problem with amount of subtitles for:Tom Nicholson\n",
      "Problem with amount of subtitles for:Tomma Abts\n",
      "Problem with amount of subtitles for:Tony Conrad\n",
      "Problem with amount of subtitles for:Urs Fischer\n",
      "Problem with amount of subtitles for:Valerie Smith\n",
      "Problem with amount of subtitles for:Valie Export\n",
      "Problem with amount of subtitles for:Walid Raad\n",
      "Problem with amount of subtitles for:Wang Bing\n",
      "Problem with amount of subtitles for:Willem de Rooij\n",
      "Problem with amount of subtitles for:Wolf Vostell\n",
      "Problem with amount of subtitles for:Wolfgang Tillmans\n",
      "Problem with amount of subtitles for:Yan Pei-Ming\n",
      "Problem with amount of subtitles for:Yona Friedman\n",
      "Problem with amount of subtitles for:Yto Barrada\n",
      "Problem with amount of subtitles for:Yves Klein\n",
      "Problem with amount of subtitles for:Zdenka Badovinac\n",
      "Problem with amount of subtitles for:Zhang Huan\n",
      "Problem with amount of subtitles for:İKSV\n"
     ]
    }
   ],
   "source": [
    "artist_announcements_dict=scraping_functions.get_announcements_of_artists_opened_browser(artists)"
   ]
  },
  {
   "cell_type": "markdown",
   "metadata": {},
   "source": [
    "Around 58 MB of data"
   ]
  },
  {
   "cell_type": "code",
   "execution_count": 4,
   "metadata": {},
   "outputs": [],
   "source": [
    "import json\n",
    "\n",
    "with open('data/artist_announcements_dict.json', 'w', encoding='utf-8') as f:\n",
    "    json.dump(artist_announcements_dict, f, ensure_ascii=False, indent=1)"
   ]
  },
  {
   "cell_type": "markdown",
   "metadata": {},
   "source": [
    "## 2) Create announcement-artist dictionary (the other way around, more useful for us)"
   ]
  },
  {
   "cell_type": "markdown",
   "metadata": {},
   "source": [
    "### 2a) Contemporary announcements only:"
   ]
  },
  {
   "cell_type": "code",
   "execution_count": 10,
   "metadata": {},
   "outputs": [],
   "source": [
    "with open('data/artist_announcements_dict_contemporary.json', 'r', encoding='utf-8') as f:\n",
    "    artist_announcements_dict_contemporary = json.load(f)"
   ]
  },
  {
   "cell_type": "code",
   "execution_count": 11,
   "metadata": {},
   "outputs": [
    {
     "data": {
      "text/plain": [
       "{'name': 'A.K. Burns',\n",
       " 'announcements': [{'id': 183436,\n",
       "   'link': '/announcements/183436/final-group-of-project-highlights-announced/',\n",
       "   'title_artists': None,\n",
       "   'title': 'Final group of project highlights announced',\n",
       "   'subtitle': 'FRONT International: Cleveland Triennial for Contemporary Art',\n",
       "   'announcement_date': 'March 17, 2018'},\n",
       "  {'id': 164538,\n",
       "   'link': '/announcements/164538/next-artist-shortlist-for-the-bmw-art-journey-announced-during-art-basel-in-miami-beach/',\n",
       "   'title_artists': None,\n",
       "   'title': 'Next artist shortlist for the BMW Art Journey announced during Art Basel in Miami Beach',\n",
       "   'subtitle': 'Art Basel Miami Beach',\n",
       "   'announcement_date': 'December 9, 2017'},\n",
       "  {'id': 78527,\n",
       "   'link': '/announcements/78527/publishing-as-an-artistic-toolbox-1989-2017/',\n",
       "   'title_artists': None,\n",
       "   'title': 'Publishing as an Artistic Toolbox: 1989–2017',\n",
       "   'subtitle': 'Kunsthalle Wien',\n",
       "   'announcement_date': 'October 18, 2017'}]}"
      ]
     },
     "execution_count": 11,
     "metadata": {},
     "output_type": "execute_result"
    }
   ],
   "source": [
    "artist_announcements_dict_contemporary[0]"
   ]
  },
  {
   "cell_type": "code",
   "execution_count": 17,
   "metadata": {},
   "outputs": [],
   "source": [
    "announcements_contemporary = [announcement for artist in artist_announcements_dict_contemporary for announcement in artist['announcements'] if announcement]"
   ]
  },
  {
   "cell_type": "markdown",
   "metadata": {},
   "source": [
    "Remove duplicates (simple way)"
   ]
  },
  {
   "cell_type": "code",
   "execution_count": 20,
   "metadata": {},
   "outputs": [],
   "source": [
    "announcements_contemporary = [announcement for i, announcement in enumerate(announcements_contemporary) if announcement not in announcements_contemporary[:i]]"
   ]
  },
  {
   "cell_type": "code",
   "execution_count": 23,
   "metadata": {},
   "outputs": [
    {
     "data": {
      "text/plain": [
       "3632"
      ]
     },
     "execution_count": 23,
     "metadata": {},
     "output_type": "execute_result"
    }
   ],
   "source": [
    "len(announcements_contemporary)"
   ]
  },
  {
   "cell_type": "markdown",
   "metadata": {},
   "source": [
    "Some announcements may appear without a subtitle (or announcement date), so we look for these, check if there are any versions of them with subtitles, and remove the ones without subtitles. (Both get the same ID, but have different content.)"
   ]
  },
  {
   "cell_type": "code",
   "execution_count": 27,
   "metadata": {},
   "outputs": [],
   "source": [
    "import itertools\n",
    "import copy\n",
    "\n",
    "announcements_contemporary_copy = copy.deepcopy(announcements_contemporary)\n",
    "\n",
    "missing_data_announcement = [announcement for announcement in announcements_contemporary_copy if not (announcement['announcement_date'] and announcement['subtitle'])]\n",
    "missing_announcement_ids = [announcement['id'] for announcement in missing_data_announcement]\n",
    "\n",
    "for announcement1 in announcements_contemporary_copy:\n",
    "    if announcement1 in missing_data_announcement:\n",
    "        continue\n",
    "    if announcement1['id'] in missing_announcement_ids:\n",
    "        missing_announcement_ids.remove(announcement1['id'])\n",
    "        id_announcements_missing = [announcement2 for announcement2 in missing_data_announcement if announcement2['id'] == announcement1['id']]\n",
    "        for announcement2 in id_announcements_missing:\n",
    "            announcements_copy_announcement2_indexes = [i for i, announcement in enumerate(announcements_contemporary_copy) if announcement == announcement2]\n",
    "            for index in announcements_copy_announcement2_indexes:\n",
    "                del announcements_contemporary_copy[index]\n",
    "            missing_data_announcement.remove(announcement2)"
   ]
  },
  {
   "cell_type": "markdown",
   "metadata": {},
   "source": [
    "This is nice, but we still have some extra cases, when we still have 2 separate dictionaries for the same announcement:"
   ]
  },
  {
   "cell_type": "code",
   "execution_count": 28,
   "metadata": {},
   "outputs": [],
   "source": [
    "#Print announcements with same id\n",
    "all_same_ID_groups = []\n",
    "for announcement in announcements_contemporary_copy:\n",
    "    id = announcement['id']\n",
    "    id_announcements = sorted([announcement2 for announcement2 in announcements_contemporary_copy if announcement2['id'] == id], key=lambda x: x['id'])\n",
    "    if len(id_announcements) > 1:\n",
    "        if id_announcements not in all_same_ID_groups:\n",
    "            all_same_ID_groups += [id_announcements]"
   ]
  },
  {
   "cell_type": "code",
   "execution_count": 31,
   "metadata": {},
   "outputs": [
    {
     "data": {
      "text/plain": [
       "[[{'id': 180689,\n",
       "   'link': '/announcements/180689/baltic-triennial-13-announces-list-of-participating-artists-and-locations/',\n",
       "   'title_artists': 'Baltic Triennial 13 announces list of participating artists and locations',\n",
       "   'title': 'Give Up the Ghost',\n",
       "   'subtitle': 'Contemporary Art Centre, Vilnius',\n",
       "   'announcement_date': 'March 29, 2018'},\n",
       "  {'id': 180689,\n",
       "   'link': '/announcements/180689/baltic-triennial-13-announces-list-of-participating-artists-and-locations/',\n",
       "   'title_artists': 'Baltic Triennial 13 announces list of participating artists and locations, Give Up the Ghost',\n",
       "   'title': 'Give Up the Ghost',\n",
       "   'subtitle': 'Contemporary Art Centre, Vilnius',\n",
       "   'announcement_date': 'March 29, 2018'}],\n",
       " [{'id': 175210,\n",
       "   'link': '/announcements/175210/babette-mangolte-roof-piece-1973-2017-and-roof-piece-on-the-high-line-2012/',\n",
       "   'title_artists': 'Babette Mangolte',\n",
       "   'title': 'Roof Piece (1973/2017)',\n",
       "   'subtitle': 'CAPC Contemporary Art Museum Bordeaux',\n",
       "   'announcement_date': 'March 27, 2018'},\n",
       "  {'id': 175210,\n",
       "   'link': '/announcements/175210/babette-mangolte-roof-piece-1973-2017-and-roof-piece-on-the-high-line-2012/',\n",
       "   'title_artists': 'Babette Mangolte, Roof Piece on the High Line (2012), Babette Mangolte film retrospective',\n",
       "   'title': 'Roof Piece (1973/2017)',\n",
       "   'subtitle': 'CAPC Contemporary Art Museum Bordeaux',\n",
       "   'announcement_date': 'March 27, 2018'}]]"
      ]
     },
     "execution_count": 31,
     "metadata": {},
     "output_type": "execute_result"
    }
   ],
   "source": [
    "(all_same_ID_groups)"
   ]
  },
  {
   "cell_type": "markdown",
   "metadata": {},
   "source": [
    "The two announcements differ only in title formatting (see the *\\n* and *\\r\\n* characters).\n",
    "\n",
    "Let's do some cleaning on the announcements:"
   ]
  },
  {
   "cell_type": "code",
   "execution_count": 34,
   "metadata": {},
   "outputs": [],
   "source": [
    "all_same_ID_groups_drop = [group[1] for group in all_same_ID_groups]\n",
    "announcements_contemporary_copy_copy = copy.deepcopy(announcements_contemporary_copy)\n",
    "for announcement in announcements_contemporary_copy:\n",
    "    if announcement in all_same_ID_groups_drop:\n",
    "        index = announcements_contemporary_copy_copy.index(announcement)\n",
    "        del announcements_contemporary_copy_copy[index]"
   ]
  },
  {
   "cell_type": "markdown",
   "metadata": {},
   "source": [
    "Now we can continue processing the announcements."
   ]
  },
  {
   "cell_type": "code",
   "execution_count": 37,
   "metadata": {},
   "outputs": [],
   "source": [
    "import copy\n",
    "\n",
    "announcements_dict_contemporary = {announcement['id']: copy.deepcopy(announcement) for announcement in announcements_contemporary_copy_copy}\n",
    "for key, value in announcements_dict_contemporary.items():\n",
    "    del value['id']\n",
    "for key, value in announcements_dict_contemporary.items():\n",
    "    value['artists'] = []"
   ]
  },
  {
   "cell_type": "code",
   "execution_count": 38,
   "metadata": {},
   "outputs": [],
   "source": [
    "for artist in artist_announcements_dict_contemporary:\n",
    "    for announcement in artist['announcements']:\n",
    "        id = announcement['id']\n",
    "        announcements_dict_contemporary[id]['artists'] += [artist['name']]"
   ]
  },
  {
   "cell_type": "code",
   "execution_count": 39,
   "metadata": {},
   "outputs": [
    {
     "data": {
      "text/plain": [
       "{'link': '/announcements/164538/next-artist-shortlist-for-the-bmw-art-journey-announced-during-art-basel-in-miami-beach/',\n",
       " 'title_artists': None,\n",
       " 'title': 'Next artist shortlist for the BMW Art Journey announced during Art Basel in Miami Beach',\n",
       " 'subtitle': 'Art Basel Miami Beach',\n",
       " 'announcement_date': 'December 9, 2017',\n",
       " 'artists': ['A.K. Burns',\n",
       "  'BMW',\n",
       "  'ICA',\n",
       "  'Jamal Cyrus',\n",
       "  'Mariela Scafati',\n",
       "  'MOCAD']}"
      ]
     },
     "execution_count": 39,
     "metadata": {},
     "output_type": "execute_result"
    }
   ],
   "source": [
    "announcements_dict_contemporary[164538]"
   ]
  },
  {
   "cell_type": "markdown",
   "metadata": {},
   "source": [
    "Save file:"
   ]
  },
  {
   "cell_type": "code",
   "execution_count": 40,
   "metadata": {},
   "outputs": [],
   "source": [
    "with open('data/announcements_contemporary.json', 'w', encoding='utf-8') as f:\n",
    "    json.dump(announcements_dict_contemporary, f, ensure_ascii=False, indent=1)"
   ]
  },
  {
   "cell_type": "markdown",
   "metadata": {},
   "source": [
    "### 2b) All announcements:"
   ]
  },
  {
   "cell_type": "code",
   "execution_count": 59,
   "metadata": {},
   "outputs": [],
   "source": [
    "with open('data/artist_announcements_dict.json', 'r', encoding='utf-8') as f:\n",
    "    artist_announcements_dict = json.load(f)"
   ]
  },
  {
   "cell_type": "code",
   "execution_count": 6,
   "metadata": {},
   "outputs": [],
   "source": [
    "announcements = [announcement for artist in artist_announcements_dict for announcement in artist['announcements'] if announcement]\n",
    "announcements = [announcement for i, announcement in enumerate(announcements) if announcement not in announcements[:i]]"
   ]
  },
  {
   "cell_type": "code",
   "execution_count": 7,
   "metadata": {},
   "outputs": [
    {
     "data": {
      "text/plain": [
       "43493"
      ]
     },
     "execution_count": 7,
     "metadata": {},
     "output_type": "execute_result"
    }
   ],
   "source": [
    "len(announcements)"
   ]
  },
  {
   "cell_type": "code",
   "execution_count": 8,
   "metadata": {},
   "outputs": [
    {
     "data": {
      "text/plain": [
       "{'id': 110660,\n",
       " 'link': '/announcements/110660/sotheby-s-institute-of-art-announces-new-summer-course/',\n",
       " 'title_artists': None,\n",
       " 'title': 'Sotheby’s Institute of Art announces new Summer Course',\n",
       " 'subtitle': 'Sotheby’s Institute of Art',\n",
       " 'announcement_date': 'May 18, 2010'}"
      ]
     },
     "execution_count": 8,
     "metadata": {},
     "output_type": "execute_result"
    }
   ],
   "source": [
    "announcements[5]"
   ]
  },
  {
   "cell_type": "code",
   "execution_count": 9,
   "metadata": {},
   "outputs": [],
   "source": [
    "import itertools\n",
    "import copy\n",
    "\n",
    "announcements_copy = copy.deepcopy(announcements)\n",
    "\n",
    "missing_data_announcement = [announcement for announcement in announcements if not (announcement['announcement_date'] and announcement['subtitle'])]\n",
    "missing_announcement_ids = [announcement['id'] for announcement in missing_data_announcement]\n",
    "\n",
    "for announcement1 in announcements:\n",
    "    if announcement1 in missing_data_announcement:\n",
    "        continue\n",
    "    if announcement1['id'] in missing_announcement_ids:\n",
    "        missing_announcement_ids.remove(announcement1['id'])\n",
    "        id_announcements_missing = [announcement2 for announcement2 in missing_data_announcement if announcement2['id'] == announcement1['id']]\n",
    "        for announcement2 in id_announcements_missing:\n",
    "            announcements_copy_announcement2_indexes = [i for i, announcement in enumerate(announcements_copy) if announcement == announcement2]\n",
    "            for index in announcements_copy_announcement2_indexes:\n",
    "                del announcements_copy[index]\n",
    "            missing_data_announcement.remove(announcement2)"
   ]
  },
  {
   "cell_type": "markdown",
   "metadata": {},
   "source": [
    "This is cool, but we still have some extra cases:"
   ]
  },
  {
   "cell_type": "code",
   "execution_count": 10,
   "metadata": {},
   "outputs": [],
   "source": [
    "#Print announcements with same id\n",
    "all_same_ID_groups = []\n",
    "for announcement in announcements_copy:\n",
    "    id = announcement['id']\n",
    "    id_announcements = sorted([announcement2 for announcement2 in announcements_copy if announcement2['id'] == id], key=lambda x: x['id'])\n",
    "    if len(id_announcements) > 1:\n",
    "        if id_announcements not in all_same_ID_groups:\n",
    "            all_same_ID_groups += [id_announcements]"
   ]
  },
  {
   "cell_type": "code",
   "execution_count": 11,
   "metadata": {},
   "outputs": [
    {
     "data": {
      "text/plain": [
       "94"
      ]
     },
     "execution_count": 11,
     "metadata": {},
     "output_type": "execute_result"
    }
   ],
   "source": [
    "len(all_same_ID_groups)"
   ]
  },
  {
   "cell_type": "markdown",
   "metadata": {},
   "source": [
    "The two announcements differ only in title formatting (see the *\\n* and *\\r\\n* characters).\n",
    "\n",
    "Let's do some cleaning on the announcements:"
   ]
  },
  {
   "cell_type": "code",
   "execution_count": 15,
   "metadata": {},
   "outputs": [],
   "source": [
    "all_same_ID_groups_drop = [group[0] for group in all_same_ID_groups]\n",
    "announcements_copy_copy = copy.deepcopy(announcements_copy)\n",
    "for announcement in announcements_copy:\n",
    "    if announcement in all_same_ID_groups_drop:\n",
    "        index = announcements_copy_copy.index(announcement)\n",
    "        del announcements_copy_copy[index]"
   ]
  },
  {
   "cell_type": "markdown",
   "metadata": {},
   "source": [
    "Now we can continue processing the announcements."
   ]
  },
  {
   "cell_type": "code",
   "execution_count": 17,
   "metadata": {},
   "outputs": [],
   "source": [
    "announcements_dict = {announcement['id']: copy.deepcopy(announcement) for announcement in announcements_copy_copy}\n",
    "for key, value in announcements_dict.items():\n",
    "    del value['id']\n",
    "for key, value in announcements_dict.items():\n",
    "    value['artists'] = []"
   ]
  },
  {
   "cell_type": "markdown",
   "metadata": {},
   "source": [
    "Amount of artists:"
   ]
  },
  {
   "cell_type": "code",
   "execution_count": 18,
   "metadata": {},
   "outputs": [],
   "source": [
    "for artist in artist_announcements_dict:\n",
    "    for announcement in artist['announcements']:\n",
    "        id = announcement['id']\n",
    "        announcements_dict[id]['artists'] += [artist['name']]"
   ]
  },
  {
   "cell_type": "code",
   "execution_count": 20,
   "metadata": {},
   "outputs": [
    {
     "data": {
      "text/plain": [
       "{'link': '/announcements/164538/next-artist-shortlist-for-the-bmw-art-journey-announced-during-art-basel-in-miami-beach/',\n",
       " 'title_artists': None,\n",
       " 'title': 'Next artist shortlist for the BMW Art Journey announced during Art Basel in Miami Beach',\n",
       " 'subtitle': 'Art Basel Miami Beach',\n",
       " 'announcement_date': 'December 9, 2017',\n",
       " 'artists': ['A.K. Burns',\n",
       "  'BMW',\n",
       "  'ICA',\n",
       "  'Jamal Cyrus',\n",
       "  'LACMA',\n",
       "  'MOCAD',\n",
       "  'Mariela Scafati']}"
      ]
     },
     "execution_count": 20,
     "metadata": {},
     "output_type": "execute_result"
    }
   ],
   "source": [
    "announcements_dict[164538]"
   ]
  },
  {
   "cell_type": "markdown",
   "metadata": {},
   "source": [
    "Save file:"
   ]
  },
  {
   "cell_type": "code",
   "execution_count": 19,
   "metadata": {},
   "outputs": [],
   "source": [
    "with open('data/announcements.json', 'w', encoding='utf-8') as f:\n",
    "    json.dump(announcements_dict, f, ensure_ascii=False, indent=1)"
   ]
  }
 ],
 "metadata": {
  "kernelspec": {
   "display_name": "Python 3",
   "language": "python",
   "name": "python3"
  },
  "language_info": {
   "codemirror_mode": {
    "name": "ipython",
    "version": 3
   },
   "file_extension": ".py",
   "mimetype": "text/x-python",
   "name": "python",
   "nbconvert_exporter": "python",
   "pygments_lexer": "ipython3",
   "version": "3.10.11"
  }
 },
 "nbformat": 4,
 "nbformat_minor": 2
}
