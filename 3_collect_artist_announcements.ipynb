{
 "cells": [
  {
   "cell_type": "markdown",
   "metadata": {},
   "source": [
    "# Collect for each artist the announcements, and save them in a file"
   ]
  },
  {
   "cell_type": "markdown",
   "metadata": {},
   "source": [
    "## Initial steps"
   ]
  },
  {
   "cell_type": "code",
   "execution_count": 1,
   "metadata": {},
   "outputs": [],
   "source": [
    "import scraping_functions"
   ]
  },
  {
   "cell_type": "code",
   "execution_count": 2,
   "metadata": {},
   "outputs": [],
   "source": [
    "with open('data/artists_contemporary_cleaned_v1.txt', 'r', encoding='utf-8') as f:\n",
    "    artists_contemporary = f.read().splitlines()\n",
    "\n",
    "with open('data/artists_cleaned_v1.txt', 'r', encoding='utf-8') as f:\n",
    "    artists = f.read().splitlines()"
   ]
  },
  {
   "cell_type": "markdown",
   "metadata": {},
   "source": [
    "## 1) Scrape announcements"
   ]
  },
  {
   "cell_type": "markdown",
   "metadata": {},
   "source": [
    "### 1a) Contemporary announcements only (faster):"
   ]
  },
  {
   "cell_type": "markdown",
   "metadata": {},
   "source": [
    "For a first step, we collect the data for artists in `artists_contemporary_cleaned_v1.txt`? If we just get these types of exhibitions by them, then we only have to use Selenium twice:\n",
    "- \"Contemporary Art\"\n",
    "- \"Data & Information\"\n",
    "- \"Installation\" \n",
    "- \"Mixed Media\"\n",
    "- \"Posthumanism\"\n",
    "- \"Postmodernism\"\n",
    "- \"Technology\"\n",
    "\n",
    "(I'd think these are mostly the contemporary categories on the website, feel free to add more). For these cases, only 2 artists have over 30 exhibitions in these categories: Hans Ulrich Obrist (36) and Olafur Eliasson (34). We can just use simple scraping for other artists.<br>\n",
    "URL for these categories: https://www.e-flux.com/announcements/?c[]=Contemporary%20Art&c[]=Data%20%26%20Information&c[]=Installation&c[]=Mixed%20Media&c[]=Posthumanism&c[]=Postmodernism&c[]=Technology\n"
   ]
  },
  {
   "cell_type": "code",
   "execution_count": 3,
   "metadata": {},
   "outputs": [
    {
     "name": "stdout",
     "output_type": "stream",
     "text": [
      "Problem with amount of subtitles for:Adam Avikainen\n",
      "Problem with amount of subtitles for:Anselm Franke\n",
      "Problem with amount of subtitles for:Antje Ehmann\n",
      "Problem with amount of subtitles for:Armin Linke\n",
      "Problem with amount of subtitles for:Ayse Erkmen\n",
      "Problem with amount of subtitles for:Britta Heinrich\n",
      "Problem with amount of subtitles for:C.T. Jasper\n",
      "Problem with amount of subtitles for:Ceal Floyer\n",
      "Problem with amount of subtitles for:David Lamelas\n",
      "Problem with amount of subtitles for:Dirk van den Heuvel\n",
      "Problem with amount of subtitles for:Eija-Liisa Ahtila\n",
      "Problem with amount of subtitles for:Enrico David\n",
      "Problem with amount of subtitles for:Francis Cape\n",
      "Problem with amount of subtitles for:Gerhard Richter\n",
      "Problem with amount of subtitles for:Guus Beumer\n",
      "Problem with amount of subtitles for:Harun Farocki\n",
      "Problem with amount of subtitles for:Jaap Bakema\n",
      "Problem with amount of subtitles for:Jean-Marc Prevost\n",
      "Problem with amount of subtitles for:Joanna Malinowska\n",
      "Problem with amount of subtitles for:John Bock\n",
      "Problem with amount of subtitles for:Michał Jachuła\n",
      "Problem with amount of subtitles for:Nikola Dietrich\n",
      "Problem with amount of subtitles for:Suzanne Lafont\n",
      "Problem with amount of subtitles for:The Otolith Group\n",
      "Problem with amount of subtitles for:Thomas Hauschild\n",
      "Problem with amount of subtitles for:Tobias Rehberger\n",
      "Problem with amount of subtitles for:Valerie Smith\n",
      "Problem with amount of subtitles for:Willem de Rooij\n",
      "Problem with amount of subtitles for:​Territorial Agency\n"
     ]
    }
   ],
   "source": [
    "artist_announcements_dict=scraping_functions.get_announcements_of_artists_scroll_if_needed(artists_contemporary, contemporary=True)"
   ]
  },
  {
   "cell_type": "markdown",
   "metadata": {},
   "source": [
    "This ran for ~35 minutes, for 8200 artists, only two of them needed scraping via opening the artist page (30+ announcements), the rest via simple HTML response.<br>\n",
    "(Runtime depends more on internet connection than processing power.)"
   ]
  },
  {
   "cell_type": "markdown",
   "metadata": {},
   "source": [
    "Example:"
   ]
  },
  {
   "cell_type": "code",
   "execution_count": 4,
   "metadata": {},
   "outputs": [
    {
     "data": {
      "text/plain": [
       "{'name': 'A.K. Burns',\n",
       " 'announcements': [{'id': 183436,\n",
       "   'link': '/announcements/183436/final-group-of-project-highlights-announced/',\n",
       "   'title_artists': None,\n",
       "   'title': 'Final group of project highlights announced',\n",
       "   'subtitle': 'FRONT International: Cleveland Triennial for Contemporary Art',\n",
       "   'announcement_date': 'March 17, 2018'},\n",
       "  {'id': 164538,\n",
       "   'link': '/announcements/164538/next-artist-shortlist-for-the-bmw-art-journey-announced-during-art-basel-in-miami-beach/',\n",
       "   'title_artists': None,\n",
       "   'title': 'Next artist shortlist for the BMW Art Journey announced during Art Basel in Miami Beach',\n",
       "   'subtitle': 'Art Basel Miami Beach',\n",
       "   'announcement_date': 'December 9, 2017'},\n",
       "  {'id': 78527,\n",
       "   'link': '/announcements/78527/publishing-as-an-artistic-toolbox-1989-2017/',\n",
       "   'title_artists': None,\n",
       "   'title': 'Publishing as an Artistic Toolbox: 1989–2017',\n",
       "   'subtitle': 'Kunsthalle Wien',\n",
       "   'announcement_date': 'October 18, 2017'}]}"
      ]
     },
     "execution_count": 4,
     "metadata": {},
     "output_type": "execute_result"
    }
   ],
   "source": [
    "artist_announcements_dict[0]"
   ]
  },
  {
   "cell_type": "markdown",
   "metadata": {},
   "source": [
    "Save file:"
   ]
  },
  {
   "cell_type": "code",
   "execution_count": 5,
   "metadata": {},
   "outputs": [],
   "source": [
    "import json\n",
    "\n",
    "with open('data/artist_announcements_dict_contemporary.json', 'w', encoding='utf-8') as f:\n",
    "    json.dump(artist_announcements_dict, f, ensure_ascii=False, indent=1)"
   ]
  },
  {
   "cell_type": "markdown",
   "metadata": {},
   "source": [
    "### 1b) All announcements:"
   ]
  },
  {
   "cell_type": "markdown",
   "metadata": {},
   "source": [
    "**Note**: I mistakenly ran this only for the contemporary artists (`artists_contemporary`), but this will be re-run soon"
   ]
  },
  {
   "cell_type": "code",
   "execution_count": 3,
   "metadata": {},
   "outputs": [
    {
     "name": "stdout",
     "output_type": "stream",
     "text": [
      "Problem with amount of subtitles or announcement dates for:Adam Avikainen\n",
      "Problem with amount of subtitles or announcement dates for:Adam Budak\n",
      "Problem with amount of subtitles or announcement dates for:Adel Abdessemed\n",
      "Problem with amount of subtitles or announcement dates for:Adrian Piper\n",
      "Problem with amount of subtitles or announcement dates for:Aernout Mik\n",
      "Problem with amount of subtitles or announcement dates for:Agnes Denes\n",
      "Problem with amount of subtitles or announcement dates for:Agnes Martin\n",
      "Problem with amount of subtitles or announcement dates for:Agnieszka Kurant\n",
      "Problem with amount of subtitles or announcement dates for:Alessandro Rabottini\n",
      "Problem with amount of subtitles or announcement dates for:Alice Neel\n",
      "Problem with amount of subtitles or announcement dates for:Ali Kazma\n",
      "Problem with amount of subtitles or announcement dates for:Allan Kaprow\n",
      "Problem with amount of subtitles or announcement dates for:Allan Sekula\n",
      "Problem with amount of subtitles or announcement dates for:Andrea Faciu\n",
      "Problem with amount of subtitles or announcement dates for:Andrea Viliani\n",
      "Problem with amount of subtitles or announcement dates for:Atif Akin\n",
      "Problem with amount of subtitles or announcement dates for:Ayse Erkmen\n",
      "Problem with amount of subtitles or announcement dates for:Basak Senova\n",
      "Problem with amount of subtitles or announcement dates for:Basel\n",
      "Problem with amount of subtitles or announcement dates for:Bernd\n",
      "Problem with amount of subtitles or announcement dates for:Bettina Pousttchi\n",
      "Problem with amount of subtitles or announcement dates for:Boris Groys\n",
      "Problem with amount of subtitles or announcement dates for:Brian Kuan Wood\n",
      "Problem with amount of subtitles or announcement dates for:Britta Heinrich\n",
      "Problem with amount of subtitles or announcement dates for:Bruce Nauman\n",
      "Problem with amount of subtitles or announcement dates for:C.T. Jasper\n",
      "Problem with amount of subtitles or announcement dates for:Cady Noland\n",
      "Problem with amount of subtitles or announcement dates for:Candice Breitz\n",
      "Problem with amount of subtitles or announcement dates for:Carl Andre\n",
      "Problem with amount of subtitles or announcement dates for:Carlos Aires\n",
      "Problem with amount of subtitles or announcement dates for:Carol Bove\n",
      "Problem with amount of subtitles or announcement dates for:Ceal Floyer\n",
      "Problem with amount of subtitles or announcement dates for:Cecily Brown\n",
      "Problem with amount of subtitles or announcement dates for:Chantal Akerman\n",
      "Problem with amount of subtitles or announcement dates for:Chiara Bertola\n",
      "Problem with amount of subtitles or announcement dates for:Chris Marker\n",
      "Problem with amount of subtitles or announcement dates for:Christo\n",
      "Problem with amount of subtitles or announcement dates for:Christopher Williams\n",
      "Problem with amount of subtitles or announcement dates for:Christopher Williams\n",
      "Problem with amount of subtitles or announcement dates for:Chuck Close\n",
      "Problem with amount of subtitles or announcement dates for:Cindy Sherman\n",
      "Problem with amount of subtitles or announcement dates for:Claes Oldenburg\n",
      "Problem with amount of subtitles or announcement dates for:Claire Bishop\n",
      "Problem with amount of subtitles or announcement dates for:Dan Flavin\n",
      "Problem with amount of subtitles or announcement dates for:Dan Graham\n",
      "Problem with amount of subtitles or announcement dates for:Danica Dakić\n",
      "Problem with amount of subtitles or announcement dates for:Daniel Birnbaum\n",
      "Problem with amount of subtitles or announcement dates for:Daniel Knorr\n",
      "Problem with amount of subtitles or announcement dates for:Dan Perjovschi\n",
      "Problem with amount of subtitles or announcement dates for:David Lamelas\n",
      "Problem with amount of subtitles or announcement dates for:David Medalla\n",
      "Problem with amount of subtitles or announcement dates for:David Zwirner\n",
      "Problem with amount of subtitles or announcement dates for:Deimantas Narkevičius\n",
      "Problem with amount of subtitles or announcement dates for:Diana Baldon\n",
      "Problem with amount of subtitles or announcement dates for:Didier Faustino\n",
      "Problem with amount of subtitles or announcement dates for:Dirk van den Heuvel\n",
      "Problem with amount of subtitles or announcement dates for:Donald Judd\n",
      "Problem with amount of subtitles or announcement dates for:Dora Maurer\n",
      "Problem with amount of subtitles or announcement dates for:Ed Ruscha\n",
      "Problem with amount of subtitles or announcement dates for:Eija-Liisa Ahtila\n",
      "Problem with amount of subtitles or announcement dates for:Ekaterina Degot\n",
      "Problem with amount of subtitles or announcement dates for:Elisabeth Millqvist\n",
      "Problem with amount of subtitles or announcement dates for:Elizabeth Peyton\n",
      "Problem with amount of subtitles or announcement dates for:Elizabeth Thomas\n",
      "Problem with amount of subtitles or announcement dates for:Emre Baykal\n",
      "Problem with amount of subtitles or announcement dates for:Enrico David\n",
      "Problem with amount of subtitles or announcement dates for:ETH Zürich\n",
      "Problem with amount of subtitles or announcement dates for:Eva Maria Stadler\n",
      "Problem with amount of subtitles or announcement dates for:Eyal Weizman\n",
      "Problem with amount of subtitles or announcement dates for:Francis Alÿs\n",
      "Problem with amount of subtitles or announcement dates for:Francis Cape\n",
      "Problem with amount of subtitles or announcement dates for:Gail Pickering\n",
      "Problem with amount of subtitles or announcement dates for:GAM\n",
      "Problem with amount of subtitles or announcement dates for:Gerhard Richter\n",
      "Problem with amount of subtitles or announcement dates for:Giulio Paolini\n",
      "Problem with amount of subtitles or announcement dates for:Glen Helfand\n",
      "Problem with amount of subtitles or announcement dates for:Glenn Ligon\n",
      "Problem with amount of subtitles or announcement dates for:Gordon Matta-Clark\n",
      "Problem with amount of subtitles or announcement dates for:Goshka Macuga\n",
      "Problem with amount of subtitles or announcement dates for:Guus Beumer\n",
      "Problem with amount of subtitles or announcement dates for:Hamed Khosravi\n",
      "Problem with amount of subtitles or announcement dates for:Hanne Darboven\n",
      "Problem with amount of subtitles or announcement dates for:Hans-Peter Feldmann\n",
      "Problem with amount of subtitles or announcement dates for:Haris Epaminonda\n",
      "Problem with amount of subtitles or announcement dates for:Harun Farocki\n",
      "Problem with amount of subtitles or announcement dates for:Hashim Sarkis\n",
      "Problem with amount of subtitles or announcement dates for:Heidi Zuckerman Jacobson\n",
      "Problem with amount of subtitles or announcement dates for:Helena Holmberg\n",
      "Problem with amount of subtitles or announcement dates for:Het Nieuwe Instituut\n",
      "Problem with amount of subtitles or announcement dates for:Hila Peleg\n",
      "Problem with amount of subtitles or announcement dates for:Hilla Becher\n",
      "Problem with amount of subtitles or announcement dates for:Hito Steyerl\n",
      "Problem with amount of subtitles or announcement dates for:Hou Hanru\n",
      "Problem with amount of subtitles or announcement dates for:İKSV\n",
      "Problem with amount of subtitles or announcement dates for:Inci Eviner\n",
      "Problem with amount of subtitles or announcement dates for:Ion Grigorescu\n",
      "Problem with amount of subtitles or announcement dates for:Jaap Bakema\n",
      "Problem with amount of subtitles or announcement dates for:Jack Persekian\n",
      "Problem with amount of subtitles or announcement dates for:Jakob Kolding\n",
      "Problem with amount of subtitles or announcement dates for:Jalal Toufic\n",
      "Problem with amount of subtitles or announcement dates for:James Benning\n",
      "Problem with amount of subtitles or announcement dates for:James Ensor\n",
      "Problem with amount of subtitles or announcement dates for:James Rosenquist\n",
      "Problem with amount of subtitles or announcement dates for:Jarosław Suchan\n",
      "Problem with amount of subtitles or announcement dates for:Jasmina Cibic\n",
      "Problem with amount of subtitles or announcement dates for:Jason Rhoades\n",
      "Problem with amount of subtitles or announcement dates for:Jason Rhoades\n",
      "Problem with amount of subtitles or announcement dates for:Jasper Johns\n",
      "Problem with amount of subtitles or announcement dates for:Jean-Marc Prevost\n",
      "Problem with amount of subtitles or announcement dates for:Jeff Koons\n",
      "Problem with amount of subtitles or announcement dates for:Joanna Malinowska\n",
      "Problem with amount of subtitles or announcement dates for:John Akomfrah\n",
      "Problem with amount of subtitles or announcement dates for:John Bock\n",
      "Problem with amount of subtitles or announcement dates for:John Chamberlain\n",
      "Problem with amount of subtitles or announcement dates for:John Miller\n",
      "Problem with amount of subtitles or announcement dates for:Jonas Staal\n",
      "Problem with amount of subtitles or announcement dates for:Joseph Beuys\n",
      "Problem with amount of subtitles or announcement dates for:Joseph Kosuth\n",
      "Problem with amount of subtitles or announcement dates for:Julian Heynen\n",
      "Problem with amount of subtitles or announcement dates for:Karin Sander\n",
      "Problem with amount of subtitles or announcement dates for:Karl Larsson\n",
      "Problem with amount of subtitles or announcement dates for:Karolina Bregula\n",
      "Problem with amount of subtitles or announcement dates for:Katharina Grosse\n",
      "Problem with amount of subtitles or announcement dates for:Kazimir Malevich\n",
      "Problem with amount of subtitles or announcement dates for:Keith Haring\n",
      "Problem with amount of subtitles or announcement dates for:Kelley Walker\n",
      "Problem with amount of subtitles or announcement dates for:Kirstine Roepstorff\n",
      "Problem with amount of subtitles or announcement dates for:Kristina Buch\n",
      "Problem with amount of subtitles or announcement dates for:LaToya Ruby Frazier\n",
      "Problem with amount of subtitles or announcement dates for:Lorenzo Benedetti\n",
      "Problem with amount of subtitles or announcement dates for:Louise Bourgeois\n",
      "Problem with amount of subtitles or announcement dates for:Lucio Fontana\n",
      "Problem with amount of subtitles or announcement dates for:Lucio Fontana\n",
      "Problem with amount of subtitles or announcement dates for:Luc Tuymans\n",
      "Problem with amount of subtitles or announcement dates for:Mamma Andersson\n",
      "Problem with amount of subtitles or announcement dates for:Marcel Broodthaers\n",
      "Problem with amount of subtitles or announcement dates for:Marcel Duchamp\n",
      "Problem with amount of subtitles or announcement dates for:Marion von Osten\n",
      "Problem with amount of subtitles or announcement dates for:Marjetica Potrč\n",
      "Problem with amount of subtitles or announcement dates for:Mark Manders\n",
      "Problem with amount of subtitles or announcement dates for:Marlene Dumas\n",
      "Problem with amount of subtitles or announcement dates for:Martin Kippenberger\n",
      "Problem with amount of subtitles or announcement dates for:Massimo Grimaldi\n",
      "Problem with amount of subtitles or announcement dates for:Matthew Buckingham\n",
      "Problem with amount of subtitles or announcement dates for:Matthieu Laurette\n",
      "Problem with amount of subtitles or announcement dates for:MFA\n",
      "Problem with amount of subtitles or announcement dates for:Michael Riedel\n",
      "Problem with amount of subtitles or announcement dates for:Michał Jachuła\n",
      "Problem with amount of subtitles or announcement dates for:Michelle Grabner\n",
      "Problem with amount of subtitles or announcement dates for:Mike Kelley\n",
      "Problem with amount of subtitles or announcement dates for:MIT\n",
      "Problem with amount of subtitles or announcement dates for:Mladen  Stilinović\n",
      "Problem with amount of subtitles or announcement dates for:MoMA\n",
      "Problem with amount of subtitles or announcement dates for:Morgan Fisher\n",
      "Problem with amount of subtitles or announcement dates for:Nanna Debois Buhl\n",
      "Problem with amount of subtitles or announcement dates for:NCCA\n",
      "Problem with amount of subtitles or announcement dates for:Nicholas Serota\n",
      "Problem with amount of subtitles or announcement dates for:Nikola Dietrich\n",
      "Problem with amount of subtitles or announcement dates for:Nina Möntmann\n",
      "Problem with amount of subtitles or announcement dates for:Norman Foster\n",
      "Problem with amount of subtitles or announcement dates for:Okwui Enwezor\n",
      "Problem with amount of subtitles or announcement dates for:On Kawara\n",
      "Problem with amount of subtitles or announcement dates for:Paul McCarthy\n",
      "Problem with amount of subtitles or announcement dates for:Petra Bauer\n",
      "Problem with amount of subtitles or announcement dates for:Phil Collins\n",
      "Problem with amount of subtitles or announcement dates for:Philippe Van Cauteren\n",
      "Problem with amount of subtitles or announcement dates for:Pierre Huyghe\n",
      "Problem with amount of subtitles or announcement dates for:Rachel Whiteread\n",
      "Problem with amount of subtitles or announcement dates for:Rasheed Araeen\n",
      "Problem with amount of subtitles or announcement dates for:Raymond Pettibon\n",
      "Problem with amount of subtitles or announcement dates for:Rirkrit Tiravanija\n",
      "Problem with amount of subtitles or announcement dates for:Robert Gober\n",
      "Problem with amount of subtitles or announcement dates for:Robert Kuśmirowski\n",
      "Problem with amount of subtitles or announcement dates for:Robert Rauschenberg\n",
      "Problem with amount of subtitles or announcement dates for:Rodney Graham\n",
      "Problem with amount of subtitles or announcement dates for:Roni Horn\n",
      "Problem with amount of subtitles or announcement dates for:Rosalind Nashashibi\n",
      "Problem with amount of subtitles or announcement dates for:Roy Ascott\n",
      "Problem with amount of subtitles or announcement dates for:RU\n",
      "Problem with amount of subtitles or announcement dates for:Rudi Fuchs\n",
      "Problem with amount of subtitles or announcement dates for:Rudolf Stingel\n",
      "Problem with amount of subtitles or announcement dates for:Runo Lagomarsino\n",
      "Problem with amount of subtitles or announcement dates for:Sabine Himmelsbach\n",
      "Problem with amount of subtitles or announcement dates for:Sanja Iveković\n",
      "Problem with amount of subtitles or announcement dates for:Sean Snyder\n",
      "Problem with amount of subtitles or announcement dates for:SFAI\n",
      "Problem with amount of subtitles or announcement dates for:Shahzia Sikander\n",
      "Problem with amount of subtitles or announcement dates for:Sheikha Hoor Al Qasimi\n",
      "Problem with amount of subtitles or announcement dates for:Sherrie Levine\n",
      "Problem with amount of subtitles or announcement dates for:Simon Sheikh\n",
      "Problem with amount of subtitles or announcement dates for:Simon Starling\n",
      "Problem with amount of subtitles or announcement dates for:Sol LeWitt\n",
      "Problem with amount of subtitles or announcement dates for:Sreshta Rit Premnath\n",
      "Problem with amount of subtitles or announcement dates for:Stan Douglas\n",
      "Problem with amount of subtitles or announcement dates for:Stef Van Bellingen\n",
      "Problem with amount of subtitles or announcement dates for:Susan Hiller\n",
      "Problem with amount of subtitles or announcement dates for:Suzanne Hudson\n",
      "Problem with amount of subtitles or announcement dates for:Suzanne Lafont\n",
      "Problem with amount of subtitles or announcement dates for:Tacita Dean\n",
      "Problem with amount of subtitles or announcement dates for:The Otolith Group\n",
      "Problem with amount of subtitles or announcement dates for:Thomas Hauschild\n",
      "Problem with amount of subtitles or announcement dates for:Thomas Ruff\n",
      "Problem with amount of subtitles or announcement dates for:Thomas Weski\n",
      "Problem with amount of subtitles or announcement dates for:Tim Etchells\n",
      "Problem with amount of subtitles or announcement dates for:Tim Griffin\n",
      "Problem with amount of subtitles or announcement dates for:Tino Sehgal\n",
      "Problem with amount of subtitles or announcement dates for:Tobias Rehberger\n",
      "Problem with amount of subtitles or announcement dates for:Tomma Abts\n",
      "Problem with amount of subtitles or announcement dates for:Tom Nicholson\n",
      "Problem with amount of subtitles or announcement dates for:Tony Conrad\n",
      "Problem with amount of subtitles or announcement dates for:Urs Fischer\n",
      "Problem with amount of subtitles or announcement dates for:Valerie Smith\n",
      "Problem with amount of subtitles or announcement dates for:Valie Export\n",
      "Problem with amount of subtitles or announcement dates for:Walid Raad\n",
      "Problem with amount of subtitles or announcement dates for:Wang Bing\n",
      "Problem with amount of subtitles or announcement dates for:Willem de Rooij\n",
      "Problem with amount of subtitles or announcement dates for:Wolfgang Tillmans\n",
      "Problem with amount of subtitles or announcement dates for:Wolf Vostell\n",
      "Problem with amount of subtitles or announcement dates for:Yan Pei-Ming\n",
      "Problem with amount of subtitles or announcement dates for:Yona Friedman\n",
      "Problem with amount of subtitles or announcement dates for:Yto Barrada\n",
      "Problem with amount of subtitles or announcement dates for:Yves Klein\n",
      "Problem with amount of subtitles or announcement dates for:Zdenka Badovinac\n",
      "Problem with amount of subtitles or announcement dates for:Zhang Huan\n",
      "Problem with amount of subtitles or announcement dates for:​Territorial Agency\n"
     ]
    }
   ],
   "source": [
    "artist_announcements_dict=scraping_functions.get_announcements_of_artists_scrolling(artists)"
   ]
  },
  {
   "cell_type": "code",
   "execution_count": 4,
   "metadata": {},
   "outputs": [],
   "source": [
    "import json\n",
    "\n",
    "with open('data/artist_announcements_dict.json', 'w', encoding='utf-8') as f:\n",
    "    json.dump(artist_announcements_dict, f, ensure_ascii=False, indent=1)"
   ]
  },
  {
   "cell_type": "markdown",
   "metadata": {},
   "source": [
    "### 1b*) Announcements for previously not included artists (fix):"
   ]
  },
  {
   "cell_type": "code",
   "execution_count": 8,
   "metadata": {},
   "outputs": [],
   "source": [
    "not_included_artists = [artist for artist in artists if artist not in artists_contemporary]"
   ]
  },
  {
   "cell_type": "markdown",
   "metadata": {},
   "source": [
    "## 2) Create announcement-artist dictionary (the other way around, more useful for us)"
   ]
  },
  {
   "cell_type": "markdown",
   "metadata": {},
   "source": [
    "### 2a) Contemporary announcements only:"
   ]
  },
  {
   "cell_type": "code",
   "execution_count": 10,
   "metadata": {},
   "outputs": [],
   "source": [
    "with open('data/artist_announcements_dict_contemporary.json', 'r', encoding='utf-8') as f:\n",
    "    artist_announcements_dict_contemporary = json.load(f)"
   ]
  },
  {
   "cell_type": "code",
   "execution_count": 11,
   "metadata": {},
   "outputs": [
    {
     "data": {
      "text/plain": [
       "{'name': 'A.K. Burns',\n",
       " 'announcements': [{'id': 183436,\n",
       "   'link': '/announcements/183436/final-group-of-project-highlights-announced/',\n",
       "   'title_artists': None,\n",
       "   'title': 'Final group of project highlights announced',\n",
       "   'subtitle': 'FRONT International: Cleveland Triennial for Contemporary Art',\n",
       "   'announcement_date': 'March 17, 2018'},\n",
       "  {'id': 164538,\n",
       "   'link': '/announcements/164538/next-artist-shortlist-for-the-bmw-art-journey-announced-during-art-basel-in-miami-beach/',\n",
       "   'title_artists': None,\n",
       "   'title': 'Next artist shortlist for the BMW Art Journey announced during Art Basel in Miami Beach',\n",
       "   'subtitle': 'Art Basel Miami Beach',\n",
       "   'announcement_date': 'December 9, 2017'},\n",
       "  {'id': 78527,\n",
       "   'link': '/announcements/78527/publishing-as-an-artistic-toolbox-1989-2017/',\n",
       "   'title_artists': None,\n",
       "   'title': 'Publishing as an Artistic Toolbox: 1989–2017',\n",
       "   'subtitle': 'Kunsthalle Wien',\n",
       "   'announcement_date': 'October 18, 2017'}]}"
      ]
     },
     "execution_count": 11,
     "metadata": {},
     "output_type": "execute_result"
    }
   ],
   "source": [
    "artist_announcements_dict_contemporary[0]"
   ]
  },
  {
   "cell_type": "code",
   "execution_count": 17,
   "metadata": {},
   "outputs": [],
   "source": [
    "announcements_contemporary = [announcement for artist in artist_announcements_dict_contemporary for announcement in artist['announcements'] if announcement]"
   ]
  },
  {
   "cell_type": "markdown",
   "metadata": {},
   "source": [
    "Remove duplicates (simple way)"
   ]
  },
  {
   "cell_type": "code",
   "execution_count": 20,
   "metadata": {},
   "outputs": [],
   "source": [
    "announcements_contemporary = [announcement for i, announcement in enumerate(announcements_contemporary) if announcement not in announcements_contemporary[:i]]"
   ]
  },
  {
   "cell_type": "code",
   "execution_count": 23,
   "metadata": {},
   "outputs": [
    {
     "data": {
      "text/plain": [
       "3632"
      ]
     },
     "execution_count": 23,
     "metadata": {},
     "output_type": "execute_result"
    }
   ],
   "source": [
    "len(announcements_contemporary)"
   ]
  },
  {
   "cell_type": "markdown",
   "metadata": {},
   "source": [
    "Some announcements may appear without a subtitle (or announcement date), so we look for these, check if there are any versions of them with subtitles, and remove the ones without subtitles. (Both get the same ID, but have different content.)"
   ]
  },
  {
   "cell_type": "code",
   "execution_count": 27,
   "metadata": {},
   "outputs": [],
   "source": [
    "import itertools\n",
    "import copy\n",
    "\n",
    "announcements_contemporary_copy = copy.deepcopy(announcements_contemporary)\n",
    "\n",
    "missing_data_announcement = [announcement for announcement in announcements_contemporary_copy if not (announcement['announcement_date'] and announcement['subtitle'])]\n",
    "missing_announcement_ids = [announcement['id'] for announcement in missing_data_announcement]\n",
    "\n",
    "for announcement1 in announcements_contemporary_copy:\n",
    "    if announcement1 in missing_data_announcement:\n",
    "        continue\n",
    "    if announcement1['id'] in missing_announcement_ids:\n",
    "        missing_announcement_ids.remove(announcement1['id'])\n",
    "        id_announcements_missing = [announcement2 for announcement2 in missing_data_announcement if announcement2['id'] == announcement1['id']]\n",
    "        for announcement2 in id_announcements_missing:\n",
    "            announcements_copy_announcement2_indexes = [i for i, announcement in enumerate(announcements_contemporary_copy) if announcement == announcement2]\n",
    "            for index in announcements_copy_announcement2_indexes:\n",
    "                del announcements_contemporary_copy[index]\n",
    "            missing_data_announcement.remove(announcement2)"
   ]
  },
  {
   "cell_type": "markdown",
   "metadata": {},
   "source": [
    "This is nice, but we still have some extra cases, when we still have 2 separate dictionaries for the same announcement:"
   ]
  },
  {
   "cell_type": "code",
   "execution_count": 28,
   "metadata": {},
   "outputs": [],
   "source": [
    "#Print announcements with same id\n",
    "all_same_ID_groups = []\n",
    "for announcement in announcements_contemporary_copy:\n",
    "    id = announcement['id']\n",
    "    id_announcements = sorted([announcement2 for announcement2 in announcements_contemporary_copy if announcement2['id'] == id], key=lambda x: x['id'])\n",
    "    if len(id_announcements) > 1:\n",
    "        if id_announcements not in all_same_ID_groups:\n",
    "            all_same_ID_groups += [id_announcements]"
   ]
  },
  {
   "cell_type": "code",
   "execution_count": 31,
   "metadata": {},
   "outputs": [
    {
     "data": {
      "text/plain": [
       "[[{'id': 180689,\n",
       "   'link': '/announcements/180689/baltic-triennial-13-announces-list-of-participating-artists-and-locations/',\n",
       "   'title_artists': 'Baltic Triennial 13 announces list of participating artists and locations',\n",
       "   'title': 'Give Up the Ghost',\n",
       "   'subtitle': 'Contemporary Art Centre, Vilnius',\n",
       "   'announcement_date': 'March 29, 2018'},\n",
       "  {'id': 180689,\n",
       "   'link': '/announcements/180689/baltic-triennial-13-announces-list-of-participating-artists-and-locations/',\n",
       "   'title_artists': 'Baltic Triennial 13 announces list of participating artists and locations, Give Up the Ghost',\n",
       "   'title': 'Give Up the Ghost',\n",
       "   'subtitle': 'Contemporary Art Centre, Vilnius',\n",
       "   'announcement_date': 'March 29, 2018'}],\n",
       " [{'id': 175210,\n",
       "   'link': '/announcements/175210/babette-mangolte-roof-piece-1973-2017-and-roof-piece-on-the-high-line-2012/',\n",
       "   'title_artists': 'Babette Mangolte',\n",
       "   'title': 'Roof Piece (1973/2017)',\n",
       "   'subtitle': 'CAPC Contemporary Art Museum Bordeaux',\n",
       "   'announcement_date': 'March 27, 2018'},\n",
       "  {'id': 175210,\n",
       "   'link': '/announcements/175210/babette-mangolte-roof-piece-1973-2017-and-roof-piece-on-the-high-line-2012/',\n",
       "   'title_artists': 'Babette Mangolte, Roof Piece on the High Line (2012), Babette Mangolte film retrospective',\n",
       "   'title': 'Roof Piece (1973/2017)',\n",
       "   'subtitle': 'CAPC Contemporary Art Museum Bordeaux',\n",
       "   'announcement_date': 'March 27, 2018'}]]"
      ]
     },
     "execution_count": 31,
     "metadata": {},
     "output_type": "execute_result"
    }
   ],
   "source": [
    "(all_same_ID_groups)"
   ]
  },
  {
   "cell_type": "markdown",
   "metadata": {},
   "source": [
    "The two announcements differ only in title formatting (see the *\\n* and *\\r\\n* characters).\n",
    "\n",
    "Let's do some cleaning on the announcements:"
   ]
  },
  {
   "cell_type": "code",
   "execution_count": 34,
   "metadata": {},
   "outputs": [],
   "source": [
    "all_same_ID_groups_drop = [group[1] for group in all_same_ID_groups]\n",
    "announcements_contemporary_copy_copy = copy.deepcopy(announcements_contemporary_copy)\n",
    "for announcement in announcements_contemporary_copy:\n",
    "    if announcement in all_same_ID_groups_drop:\n",
    "        index = announcements_contemporary_copy_copy.index(announcement)\n",
    "        del announcements_contemporary_copy_copy[index]"
   ]
  },
  {
   "cell_type": "markdown",
   "metadata": {},
   "source": [
    "Now we can continue processing the announcements."
   ]
  },
  {
   "cell_type": "code",
   "execution_count": 65,
   "metadata": {},
   "outputs": [],
   "source": [
    "import copy\n",
    "\n",
    "announcements_dict_contemporary = {announcement['id']: copy.deepcopy(announcement) for announcement in announcements_contemporary_copy_copy}\n",
    "for key, value in announcements_dict_contemporary.items():\n",
    "    del value['id']\n",
    "for key, value in announcements_dict_contemporary.items():\n",
    "    value['artists'] = []"
   ]
  },
  {
   "cell_type": "code",
   "execution_count": 68,
   "metadata": {},
   "outputs": [],
   "source": [
    "for artist in artist_announcements_dict_contemporary:\n",
    "    for announcement in artist['announcements']:\n",
    "        id = announcement['id']\n",
    "        announcements_dict_contemporary[id]['artists'] += [artist['name']]"
   ]
  },
  {
   "cell_type": "code",
   "execution_count": 71,
   "metadata": {},
   "outputs": [
    {
     "data": {
      "text/plain": [
       "{'link': '/announcements/164538/next-artist-shortlist-for-the-bmw-art-journey-announced-during-art-basel-in-miami-beach/',\n",
       " 'title_artists': None,\n",
       " 'title': 'Next artist shortlist for the BMW Art Journey announced during Art Basel in Miami Beach',\n",
       " 'artists': ['A.K. Burns',\n",
       "  'BMW',\n",
       "  'ICA',\n",
       "  'Jamal Cyrus',\n",
       "  'LACMA',\n",
       "  'Mariela Scafati',\n",
       "  'MOCAD']}"
      ]
     },
     "execution_count": 71,
     "metadata": {},
     "output_type": "execute_result"
    }
   ],
   "source": [
    "announcements_dict_contemporary[164538]"
   ]
  },
  {
   "cell_type": "markdown",
   "metadata": {},
   "source": [
    "Save file:"
   ]
  },
  {
   "cell_type": "code",
   "execution_count": 72,
   "metadata": {},
   "outputs": [],
   "source": [
    "with open('data/announcements_contemporary.json', 'w', encoding='utf-8') as f:\n",
    "    json.dump(announcements_dict_contemporary, f, ensure_ascii=False, indent=1)"
   ]
  },
  {
   "cell_type": "markdown",
   "metadata": {},
   "source": [
    "### 2b) All announcements:"
   ]
  },
  {
   "cell_type": "code",
   "execution_count": 59,
   "metadata": {},
   "outputs": [],
   "source": [
    "with open('data/artist_announcements_dict.json', 'r', encoding='utf-8') as f:\n",
    "    artist_announcements_dict = json.load(f)"
   ]
  },
  {
   "cell_type": "code",
   "execution_count": 6,
   "metadata": {},
   "outputs": [],
   "source": [
    "announcements = [announcement for artist in artist_announcements_dict for announcement in artist['announcements'] if announcement]\n",
    "announcements = [announcement for i, announcement in enumerate(announcements) if announcement not in announcements[:i]]"
   ]
  },
  {
   "cell_type": "code",
   "execution_count": 7,
   "metadata": {},
   "outputs": [
    {
     "data": {
      "text/plain": [
       "38105"
      ]
     },
     "execution_count": 7,
     "metadata": {},
     "output_type": "execute_result"
    }
   ],
   "source": [
    "len(announcements)"
   ]
  },
  {
   "cell_type": "code",
   "execution_count": 18,
   "metadata": {},
   "outputs": [
    {
     "data": {
      "text/plain": [
       "{'id': 311515,\n",
       " 'link': '/announcements/311515/light-and-language/',\n",
       " 'title_artists': None,\n",
       " 'title': 'Light and Language',\n",
       " 'subtitle': 'Lismore Castle Arts',\n",
       " 'announcement_date': 'March 22, 2021'}"
      ]
     },
     "execution_count": 18,
     "metadata": {},
     "output_type": "execute_result"
    }
   ],
   "source": [
    "announcements[5]"
   ]
  },
  {
   "cell_type": "code",
   "execution_count": 19,
   "metadata": {},
   "outputs": [],
   "source": [
    "import itertools\n",
    "import copy\n",
    "\n",
    "announcements_copy = copy.deepcopy(announcements)\n",
    "\n",
    "missing_data_announcement = [announcement for announcement in announcements if not (announcement['announcement_date'] and announcement['subtitle'])]\n",
    "missing_announcement_ids = [announcement['id'] for announcement in missing_data_announcement]\n",
    "\n",
    "for announcement1 in announcements:\n",
    "    if announcement1 in missing_data_announcement:\n",
    "        continue\n",
    "    if announcement1['id'] in missing_announcement_ids:\n",
    "        missing_announcement_ids.remove(announcement1['id'])\n",
    "        id_announcements_missing = [announcement2 for announcement2 in missing_data_announcement if announcement2['id'] == announcement1['id']]\n",
    "        for announcement2 in id_announcements_missing:\n",
    "            announcements_copy_announcement2_indexes = [i for i, announcement in enumerate(announcements_copy) if announcement == announcement2]\n",
    "            for index in announcements_copy_announcement2_indexes:\n",
    "                del announcements_copy[index]\n",
    "            missing_data_announcement.remove(announcement2)"
   ]
  },
  {
   "cell_type": "markdown",
   "metadata": {},
   "source": [
    "This is cool, but we still have some extra cases:"
   ]
  },
  {
   "cell_type": "code",
   "execution_count": 33,
   "metadata": {},
   "outputs": [],
   "source": [
    "#Print announcements with same id\n",
    "all_same_ID_groups = []\n",
    "for announcement in announcements_copy:\n",
    "    id = announcement['id']\n",
    "    id_announcements = sorted([announcement2 for announcement2 in announcements_copy if announcement2['id'] == id], key=lambda x: x['id'])\n",
    "    if len(id_announcements) > 1:\n",
    "        if id_announcements not in all_same_ID_groups:\n",
    "            all_same_ID_groups += [id_announcements]"
   ]
  },
  {
   "cell_type": "code",
   "execution_count": 37,
   "metadata": {},
   "outputs": [
    {
     "data": {
      "text/plain": [
       "[{'id': 195910,\n",
       "  'link': '/announcements/195910/miss-read-the-berlin-art-book-festivalmiss-read-2018/',\n",
       "  'title_artists': 'Miss Read: The Berlin Art Book Festival',\n",
       "  'title': 'Miss Read: The Berlin Art Book Festival\\nMay 4–6, 2018',\n",
       "  'subtitle': 'MISS READ: The Berlin Art Book Festival',\n",
       "  'announcement_date': 'April 29, 2018'},\n",
       " {'id': 195910,\n",
       "  'link': '/announcements/195910/miss-read-the-berlin-art-book-festivalmiss-read-2018/',\n",
       "  'title_artists': 'Miss Read: The Berlin Art Book Festival',\n",
       "  'title': 'Miss Read: The Berlin Art Book Festival\\r\\nMay 4–6, 2018',\n",
       "  'subtitle': 'MISS READ: The Berlin Art Book Festival',\n",
       "  'announcement_date': 'April 29, 2018'}]"
      ]
     },
     "execution_count": 37,
     "metadata": {},
     "output_type": "execute_result"
    }
   ],
   "source": [
    "#Check if there are any missing data announcements left\n",
    "all_same_ID_groups[0]"
   ]
  },
  {
   "cell_type": "markdown",
   "metadata": {},
   "source": [
    "The two announcements differ only in title formatting (see the *\\n* and *\\r\\n* characters).\n",
    "\n",
    "Let's do some cleaning on the announcements:"
   ]
  },
  {
   "cell_type": "code",
   "execution_count": null,
   "metadata": {},
   "outputs": [],
   "source": [
    "all_same_ID_groups_drop = [group[0] for group in all_same_ID_groups]\n",
    "announcements_copy_copy = copy.deepcopy(announcements_copy)\n",
    "for announcement in announcements_copy:\n",
    "    if announcement in all_same_ID_groups_drop:\n",
    "        index = announcements_copy_copy.index(announcement)\n",
    "        del announcements_copy_copy[index]"
   ]
  },
  {
   "cell_type": "markdown",
   "metadata": {},
   "source": [
    "Now we can continue processing the announcements."
   ]
  },
  {
   "cell_type": "code",
   "execution_count": 54,
   "metadata": {},
   "outputs": [],
   "source": [
    "announcements_dict = {announcement['id']: copy.deepcopy(announcement) for announcement in announcements_copy_copy}\n",
    "for key, value in announcements_dict.items():\n",
    "    del value['id']\n",
    "for key, value in announcements_dict.items():\n",
    "    value['artists'] = []"
   ]
  },
  {
   "cell_type": "markdown",
   "metadata": {},
   "source": [
    "Amount of artists:"
   ]
  },
  {
   "cell_type": "code",
   "execution_count": 60,
   "metadata": {},
   "outputs": [
    {
     "data": {
      "text/plain": [
       "8262"
      ]
     },
     "execution_count": 60,
     "metadata": {},
     "output_type": "execute_result"
    }
   ],
   "source": [
    "len(artist_announcements_dict)"
   ]
  },
  {
   "cell_type": "code",
   "execution_count": 61,
   "metadata": {},
   "outputs": [],
   "source": [
    "for artist in artist_announcements_dict:\n",
    "    for announcement in artist['announcements']:\n",
    "        id = announcement['id']\n",
    "        announcements_dict[id]['artists'] += [artist['name']]"
   ]
  },
  {
   "cell_type": "markdown",
   "metadata": {},
   "source": [
    "Save file:"
   ]
  },
  {
   "cell_type": "code",
   "execution_count": 63,
   "metadata": {},
   "outputs": [],
   "source": [
    "with open('data/announcements.json', 'w', encoding='utf-8') as f:\n",
    "    json.dump(announcements_dict, f, ensure_ascii=False, indent=1)"
   ]
  }
 ],
 "metadata": {
  "kernelspec": {
   "display_name": "Python 3",
   "language": "python",
   "name": "python3"
  },
  "language_info": {
   "codemirror_mode": {
    "name": "ipython",
    "version": 3
   },
   "file_extension": ".py",
   "mimetype": "text/x-python",
   "name": "python",
   "nbconvert_exporter": "python",
   "pygments_lexer": "ipython3",
   "version": "3.10.11"
  }
 },
 "nbformat": 4,
 "nbformat_minor": 2
}
