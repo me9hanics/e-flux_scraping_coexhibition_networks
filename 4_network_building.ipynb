{
 "cells": [
  {
   "cell_type": "markdown",
   "metadata": {},
   "source": [
    "# Network building (graph-tool)"
   ]
  },
  {
   "cell_type": "markdown",
   "metadata": {},
   "source": [
    "Using the `graph-tool` library, and functions in `graph_functions.py`, we firstly created a large network of artists, where two artists are connected if they have a common exhibition. We then created two smaller networks: one where two artists are only connected if they share two common exhibitions (this network was in the end not analyzed) and one where only a subset of artist are included, who are in [PainterPalette](https://github.com/me9hanics/PainterPalette). This is be described more in the `5_community_detection.ipynb` notebook."
   ]
  },
  {
   "cell_type": "markdown",
   "metadata": {},
   "source": [
    "## Initial steps"
   ]
  },
  {
   "cell_type": "code",
   "execution_count": 63,
   "metadata": {},
   "outputs": [],
   "source": [
    "import json\n",
    "with open('data/artists_cleaned_v1.txt', 'r', encoding='utf-8') as f:\n",
    "    artists = f.read().splitlines()\n",
    "\n",
    "with open('data/announcements.json', 'r', encoding='utf-8') as f:\n",
    "    announcements = json.load(f)"
   ]
  },
  {
   "cell_type": "markdown",
   "metadata": {},
   "source": [
    "An example announcement:"
   ]
  },
  {
   "cell_type": "code",
   "execution_count": 64,
   "metadata": {},
   "outputs": [
    {
     "data": {
      "text/plain": [
       "{'link': '/announcements/281251/curators-intensive-taipei-19/',\n",
       " 'title_artists': None,\n",
       " 'title': 'Curators’ Intensive Taipei 19',\n",
       " 'subtitle': 'Taipei Fine Arts Museum',\n",
       " 'announcement_date': 'September 28, 2019',\n",
       " 'artists': ['Ade Darmawan',\n",
       "  'David Teh',\n",
       "  'Esther Lu',\n",
       "  'Fang-Wei Chang',\n",
       "  'Kenjiro Hosaka',\n",
       "  'Manray Hsu',\n",
       "  'Mirwan Andan',\n",
       "  'Raimundas Malašauskas',\n",
       "  'TFAM',\n",
       "  'Zoe Butt']}"
      ]
     },
     "execution_count": 64,
     "metadata": {},
     "output_type": "execute_result"
    }
   ],
   "source": [
    "announcements[\"281251\"]"
   ]
  },
  {
   "cell_type": "markdown",
   "metadata": {},
   "source": [
    "We only use the `artists` attribute."
   ]
  },
  {
   "cell_type": "markdown",
   "metadata": {},
   "source": [
    "## 1) Initial network"
   ]
  },
  {
   "cell_type": "markdown",
   "metadata": {},
   "source": [
    "The tool used for building the network is `graph-tool`, a fast Python graph library built on C++ (hence why it is fast), awesome for visualizations and (social) network analysis.\n",
    "\n",
    "The way we build a network of artists:\n",
    "- Add artists (e.g. from the `artists_cleaned_v1.txt` file) as nodes in the graph\n",
    "- Run through all announcements, add edges between artists that share an announcement\n",
    "- Graph is undirected and weighted, weight = number of announcements shared"
   ]
  },
  {
   "cell_type": "code",
   "execution_count": 3,
   "metadata": {},
   "outputs": [],
   "source": [
    "#import graph_tool as gt\n",
    "#from graph_tool import inference\n",
    "from graph_tool.all import * #Otherwise, draw_hierarchy will not be found in any case (even if importing graph_tool.draw)\n",
    "import graph_functions"
   ]
  },
  {
   "cell_type": "markdown",
   "metadata": {},
   "source": [
    "#### Add the nodes of the graph (artists)\n",
    "\n",
    "(The artists were in the end not added from the *.txt* file, but from the announcements dictionary, theoretically these two lists of artists should be equivalent, in practice the *.txt* file may possibly contain artists without announcements, this is why we went with the slower method of going through announcement values to find artists)"
   ]
  },
  {
   "cell_type": "code",
   "execution_count": 4,
   "metadata": {},
   "outputs": [],
   "source": [
    "g = Graph(directed=False)\n",
    "\n",
    "artist_to_vertex = {}\n",
    "\n",
    "for announcement in announcements.values():\n",
    "    announcement_artists = announcement['artists']\n",
    "    for artist in artists:\n",
    "        if artist not in artist_to_vertex:\n",
    "            v = g.add_vertex()\n",
    "            artist_to_vertex[artist] = v"
   ]
  },
  {
   "cell_type": "markdown",
   "metadata": {},
   "source": [
    "Make an artist name from vertex dict (/flip out artist_to_vertex dictionary) so we can look up artists by vertex's property"
   ]
  },
  {
   "cell_type": "code",
   "execution_count": 5,
   "metadata": {},
   "outputs": [],
   "source": [
    "artist_name = g.new_vertex_property(\"string\") #vertex_to_artist = {v: artist for artist, v in artist_to_vertex.items()}\n",
    "for artist,v in artist_to_vertex.items():\n",
    "    artist_name[v] = artist\n",
    "\n",
    "g.vertex_properties[\"artist_name\"] = artist_name"
   ]
  },
  {
   "cell_type": "markdown",
   "metadata": {},
   "source": [
    "(now we have artist-vertex, and vertex-artist dicts, which are optimal for fast look up, which we may need while computing)\n"
   ]
  },
  {
   "cell_type": "markdown",
   "metadata": {},
   "source": [
    "#### Add edges:"
   ]
  },
  {
   "cell_type": "code",
   "execution_count": 6,
   "metadata": {},
   "outputs": [],
   "source": [
    "import itertools\n",
    "\n",
    "edge_weights = {}\n",
    "for announcement in announcements.values():\n",
    "    artists_ = announcement['artists']\n",
    "    for artist1, artist2 in itertools.combinations(artists_, 2):\n",
    "        #Check if the edge already exists (this returns the edge, or None)\n",
    "        edge = g.edge(artist_to_vertex[artist1], artist_to_vertex[artist2])\n",
    "        if edge:\n",
    "            edge_weights[edge] += 1\n",
    "        else:\n",
    "            edge = g.add_edge(artist_to_vertex[artist1], artist_to_vertex[artist2])\n",
    "            edge_weights[edge] = 1"
   ]
  },
  {
   "cell_type": "markdown",
   "metadata": {},
   "source": [
    "Add edge weight property to the edges"
   ]
  },
  {
   "cell_type": "code",
   "execution_count": 7,
   "metadata": {},
   "outputs": [],
   "source": [
    "weight = g.new_edge_property(\"int\")\n",
    "for edge, weight_value in edge_weights.items():\n",
    "    weight[edge] = weight_value\n",
    "g.edge_properties[\"weight\"] = weight"
   ]
  },
  {
   "cell_type": "markdown",
   "metadata": {},
   "source": [
    "Now we have a graph that includes all connections."
   ]
  },
  {
   "cell_type": "code",
   "execution_count": 8,
   "metadata": {},
   "outputs": [
    {
     "name": "stdout",
     "output_type": "stream",
     "text": [
      "21350\n",
      "1149352\n"
     ]
    }
   ],
   "source": [
    "#Print amount of vertices and edges\n",
    "print(g.num_vertices())\n",
    "print(g.num_edges())"
   ]
  },
  {
   "cell_type": "markdown",
   "metadata": {},
   "source": [
    "The problem is we have a bit too much edges. The nested block model computation crashed, so we compute for a smaller subset of the data - a subgraph of the original graph.<br>\n",
    "(I ran it locally in a container, likely JupyterLab can be faster and not run out of more memory.)"
   ]
  },
  {
   "cell_type": "markdown",
   "metadata": {},
   "source": [
    "## Focusing on a subgraph"
   ]
  },
  {
   "cell_type": "markdown",
   "metadata": {},
   "source": [
    "We construct two sub-networks of the original network:\n",
    "\n",
    "-`g_double`: has edges only between artists that share 2+ announcements<br>\n",
    "-`g_selected`: is a subset of ~1000 artists who appear in the [PainterPalette](3) dataset (developed by Mihaly), and thus we have more data of these artists, such as locations, nationality/citizenship, styles, biographical data and so on. (It may happen that some artists appear with in both datasets with a different name, but we do not account for this)"
   ]
  },
  {
   "cell_type": "markdown",
   "metadata": {},
   "source": [
    "That PainterPalette dataset contains: \n",
    "\n",
    "- Bio data of a painter: Nationality/citizenship, name, birth and death years and places, gender\n",
    "- Artistic style data\n",
    "- Locations of activity (sometimes with years)\n",
    "- Occupations (e.g. painter, sculptor, litographer, etc.)\n",
    "- Influences: on painters, and from painters, pupils, teachers\n",
    "- Friends, coworkers (limited data)\n",
    "- Quantities of paintings, in styles, etc.\n",
    "\n",
    "Mostly about painters, but also some other artists. If we look for artists in our network that appear in this dataset, we can get some basic information about them, that we later can use for analyzing the communities: how does style, gender ratio, \"success\" differ among communities? If we focus on the intersection of the two datasets (artists who are in our network, and also in the dataset) we can do such analysis."
   ]
  },
  {
   "cell_type": "markdown",
   "metadata": {},
   "source": [
    "Construct the two networks (functions described in `graph_functions.py`):"
   ]
  },
  {
   "cell_type": "code",
   "execution_count": 10,
   "metadata": {},
   "outputs": [],
   "source": [
    "#Construct g_doubles: a subgraph of g with only edges with weight > 1 (so with at least 2 connections)\n",
    "g_doubles = graph_functions.create_subgraph_from_edges(g, [edge for edge in g.edges() if g.edge_properties[\"weight\"][edge] > 1])"
   ]
  },
  {
   "cell_type": "code",
   "execution_count": 11,
   "metadata": {},
   "outputs": [
    {
     "name": "stdout",
     "output_type": "stream",
     "text": [
      "Nodes: 10192\n",
      "Edges: 233958\n"
     ]
    }
   ],
   "source": [
    "print(\"Nodes:\", g_doubles.num_vertices()), print(\"Edges:\", g_doubles.num_edges());"
   ]
  },
  {
   "cell_type": "markdown",
   "metadata": {},
   "source": [
    "As we see, this is already considerably smaller than the original network we started from."
   ]
  },
  {
   "cell_type": "markdown",
   "metadata": {},
   "source": [
    "`g_selected`, the other network is even smaller. It is the network of those artists, that appear in the *PainterPalette* dataset (there is typically a lot of information about these artists). A bit more than 1000 people, but mostly painters are included, only a smaller portion of artists are contemporary."
   ]
  },
  {
   "cell_type": "code",
   "execution_count": 70,
   "metadata": {},
   "outputs": [],
   "source": [
    "import pandas as pd\n",
    "\n",
    "url = \"https://raw.githubusercontent.com/me9hanics/PainterPalette/main/PainterPalette.csv\"\n",
    "artists_df = pd.read_csv(url).drop(columns=['Type', 'Contemporary'])\n",
    "#I often include this way, don't have to download, plus keeps track of updates\n",
    "#dropping type and contemporary because they are \"artificial\" columns"
   ]
  },
  {
   "cell_type": "markdown",
   "metadata": {},
   "source": [
    "Just to give an example, this is what data we have of one artist:"
   ]
  },
  {
   "cell_type": "code",
   "execution_count": 12,
   "metadata": {},
   "outputs": [
    {
     "data": {
      "text/plain": [
       "artist                                                      Bracha L. Ettinger\n",
       "Nationality                                              French,Jewish,Israeli\n",
       "citizenship                                                             Israel\n",
       "gender                                                                  female\n",
       "styles                                                   New European Painting\n",
       "movement                                                 New European Painting\n",
       "Art500k_Movements                                   {New European Painting:21}\n",
       "birth_place                                                           Tel Aviv\n",
       "death_place                                                                NaN\n",
       "birth_year                                                              1948.0\n",
       "death_year                                                                 NaN\n",
       "FirstYear                                                               1991.0\n",
       "LastYear                                                                2009.0\n",
       "wikiart_pictures_count                                                    21.0\n",
       "locations                                                                   []\n",
       "locations_with_years                                                        []\n",
       "styles_extended                                     {New European Painting:21}\n",
       "StylesCount                                         {New European Painting:21}\n",
       "StylesYears                                    New European Painting:1991-2009\n",
       "occupations                  philosopher, psychoanalyst, painter, photographer\n",
       "PaintingsExhibitedAt                                                       NaN\n",
       "PaintingsExhibitedAtCount                                                  NaN\n",
       "PaintingSchool                                                             NaN\n",
       "Influencedby                                                               NaN\n",
       "Influencedon                                                               NaN\n",
       "Pupils                                                                     NaN\n",
       "Teachers                                                                   NaN\n",
       "FriendsandCoworkers                                                        NaN\n",
       "ArtMovement                                                                NaN\n",
       "Name: 0, dtype: object"
      ]
     },
     "execution_count": 12,
     "metadata": {},
     "output_type": "execute_result"
    }
   ],
   "source": [
    "(artists[0:1]).iloc[0].squeeze()"
   ]
  },
  {
   "cell_type": "markdown",
   "metadata": {},
   "source": [
    "Find the intersection of the artists in the graph and the artists in the dataset:"
   ]
  },
  {
   "cell_type": "code",
   "execution_count": 14,
   "metadata": {},
   "outputs": [
    {
     "name": "stdout",
     "output_type": "stream",
     "text": [
      "Amount of artists of whom we have extra data about: 1043\n"
     ]
    }
   ],
   "source": [
    "artists_in_graph = set(artist_name[v] for v in g.vertices())\n",
    "artists_in_dataset = set(artists['artist'])\n",
    "artists_in_both = artists_in_graph.intersection(artists_in_dataset)\n",
    "\n",
    "print(\"Amount of artists of whom we have extra data about:\", len(artists_in_both))"
   ]
  },
  {
   "cell_type": "markdown",
   "metadata": {},
   "source": [
    "Get their graph:"
   ]
  },
  {
   "cell_type": "code",
   "execution_count": 16,
   "metadata": {},
   "outputs": [
    {
     "name": "stdout",
     "output_type": "stream",
     "text": [
      "Number of edges in the graph: 53003\n"
     ]
    }
   ],
   "source": [
    "g_selected = graph_functions.create_subgraph_from_names(g, artists_in_both, artist_to_vertex)\n",
    "print(\"Number of edges in the graph:\", g_selected.num_edges())"
   ]
  },
  {
   "cell_type": "markdown",
   "metadata": {},
   "source": [
    "Save graphs: (the official documentation recommends saving the graph in binary format for perfect reconstruction)"
   ]
  },
  {
   "cell_type": "code",
   "execution_count": null,
   "metadata": {},
   "outputs": [],
   "source": [
    "g_selected.save(\"data/coexhibition_network_selected_artists.gt.gz\")\n",
    "g.save(\"data/coexhibition_network.gt.gz\")"
   ]
  },
  {
   "cell_type": "markdown",
   "metadata": {},
   "source": [
    "We use the first graph in the `5_community_detection.ipynb` notebook, where we analyze the communities of artists in this network."
   ]
  }
 ],
 "metadata": {
  "kernelspec": {
   "display_name": "Python 3 (ipykernel)",
   "language": "python",
   "name": "python3"
  },
  "language_info": {
   "codemirror_mode": {
    "name": "ipython",
    "version": 3
   },
   "file_extension": ".py",
   "mimetype": "text/x-python",
   "name": "python",
   "nbconvert_exporter": "python",
   "pygments_lexer": "ipython3",
   "version": "3.10.11"
  }
 },
 "nbformat": 4,
 "nbformat_minor": 4
}
