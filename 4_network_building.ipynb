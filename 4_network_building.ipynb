{
 "cells": [
  {
   "cell_type": "markdown",
   "metadata": {},
   "source": [
    "# Network building"
   ]
  },
  {
   "cell_type": "markdown",
   "metadata": {},
   "source": [
    "Based on artists sharing a common announcement/exhibition: using *announcements.json* / *announcements_contemporary.json* "
   ]
  },
  {
   "cell_type": "markdown",
   "metadata": {},
   "source": [
    "## Initial steps"
   ]
  },
  {
   "cell_type": "code",
   "execution_count": 1,
   "metadata": {},
   "outputs": [],
   "source": [
    "import json\n",
    "with open('data/artists_cleaned_v1.txt', 'r', encoding='utf-8') as f:\n",
    "    artists = f.read().splitlines()\n",
    "\n",
    "with open('data/announcements.json', 'r', encoding='utf-8') as f:\n",
    "    announcements = json.load(f)"
   ]
  },
  {
   "cell_type": "markdown",
   "metadata": {},
   "source": [
    "## 1) Network building"
   ]
  },
  {
   "cell_type": "markdown",
   "metadata": {},
   "source": [
    "Something like:\n",
    "\n",
    "- Add all artists (from the txt file) to a node in the graph\n",
    "- Run through all announcements, add edges between artists that share an announcement\n",
    "\n",
    "- Graph should be undirected + weighted, weight = number of announcements shared"
   ]
  },
  {
   "cell_type": "code",
   "execution_count": 2,
   "metadata": {},
   "outputs": [],
   "source": [
    "#import graph_tool as gt\n",
    "#from graph_tool import inference\n",
    "from graph_tool.all import * #Otherwise, draw_hierarchy will not be found in any case (even if importing graph_tool.draw)"
   ]
  },
  {
   "cell_type": "code",
   "execution_count": null,
   "metadata": {},
   "outputs": [],
   "source": [
    "g = Graph(directed=False)\n",
    "\n",
    "# Create a dictionary to map artist names to vertices\n",
    "artist_to_vertex = {}\n",
    "\n",
    "for announcement in announcements.values():\n",
    "    announcement_artists = announcement['artists']\n",
    "    for artist in artists:\n",
    "        # If the artist is not already in the graph, add them\n",
    "        if artist not in artist_to_vertex:\n",
    "            v = g.add_vertex()\n",
    "            artist_to_vertex[artist] = v"
   ]
  },
  {
   "cell_type": "markdown",
   "metadata": {},
   "source": [
    "Make an artist name from vertex dict(/flip out artist_to_vertex dictionary) so we can look up artists by vertex's property "
   ]
  },
  {
   "cell_type": "code",
   "execution_count": null,
   "metadata": {},
   "outputs": [],
   "source": [
    "artist_name = g.new_vertex_property(\"string\") #vertex_to_artist = {v: artist for artist, v in artist_to_vertex.items()}\n",
    "for v, artist in artist_to_vertex.items():\n",
    "    artist_name[v] = artist\n",
    "\n",
    "g.vertex_properties[\"artist_name\"] = artist_name"
   ]
  },
  {
   "cell_type": "markdown",
   "metadata": {},
   "source": [
    "Add edges:"
   ]
  },
  {
   "cell_type": "code",
   "execution_count": null,
   "metadata": {},
   "outputs": [],
   "source": [
    "import itertools\n",
    "\n",
    "edge_weights = {}\n",
    "for announcement in announcements.values():\n",
    "    artists_ = announcement['artists']\n",
    "    for artist1, artist2 in itertools.combinations(artists_, 2):\n",
    "        # Check if the edge already exists (this returns the edge, or None)\n",
    "        edge = g.edge(artist_to_vertex[artist1], artist_to_vertex[artist2])\n",
    "        if edge:\n",
    "            edge_weights[edge] += 1\n",
    "        else:\n",
    "            edge = g.add_edge(artist_to_vertex[artist1], artist_to_vertex[artist2])\n",
    "            edge_weights[edge] = 1"
   ]
  },
  {
   "cell_type": "markdown",
   "metadata": {},
   "source": [
    "Add edge weight property to the edges"
   ]
  },
  {
   "cell_type": "code",
   "execution_count": null,
   "metadata": {},
   "outputs": [],
   "source": [
    "weight = g.new_edge_property(\"int\")\n",
    "for edge, weight_value in edge_weights.items():\n",
    "    weight[edge] = weight_value\n",
    "g.edge_properties[\"weight\"] = weight"
   ]
  },
  {
   "cell_type": "code",
   "execution_count": null,
   "metadata": {},
   "outputs": [],
   "source": [
    "#Print amount of vertices and edges\n",
    "print(g.num_vertices())\n",
    "print(g.num_edges())"
   ]
  },
  {
   "cell_type": "markdown",
   "metadata": {},
   "source": [
    "This is a bit too much. The nested block model computation crashes, so we have to compute for a smaller subset of the data.<br>\n",
    "(I ran this locally, possibly Jupyter notebook can be faster)"
   ]
  },
  {
   "cell_type": "code",
   "execution_count": 6,
   "metadata": {},
   "outputs": [],
   "source": [
    "def create_subgraph_from_names(g, names, name_to_vertex):\n",
    "    # Create a new graph\n",
    "    g_sub = Graph(directed=False)\n",
    "\n",
    "    # Create a dictionary to map names to new vertices\n",
    "    name_to_new_vertex = {}\n",
    "\n",
    "    # Create a vertex property map for the names\n",
    "    name_property = g_sub.new_vertex_property(\"string\")\n",
    "\n",
    "    # Add vertices to the new graph\n",
    "    for name in names:\n",
    "        if name in name_to_vertex:\n",
    "            v = g_sub.add_vertex()\n",
    "            name_property[v] = name\n",
    "            name_to_new_vertex[name] = v  # Map the name to the new vertex\n",
    "\n",
    "    g_sub.vertex_properties[\"name\"] = name_property\n",
    "\n",
    "    # Create an edge property map for the weights\n",
    "    edge_weights = g_sub.new_edge_property(\"int\")\n",
    "\n",
    "    for name1, name2 in itertools.combinations(names, 2):\n",
    "        # Check if the edge already exists in the original graph\n",
    "        if name1 in name_to_vertex and name2 in name_to_vertex:\n",
    "            edge = g.edge(name_to_vertex[name1], name_to_vertex[name2])\n",
    "            if edge:\n",
    "                # If the edge exists, copy its weight to the subgraph\n",
    "                edge_sub = g_sub.add_edge(name_to_new_vertex[name1], name_to_new_vertex[name2])\n",
    "                edge_weights[edge_sub] = g.edge_properties[\"weight\"][edge]\n",
    "\n",
    "    g_sub.edge_properties[\"weight\"] = edge_weights\n",
    "\n",
    "    return g_sub\n",
    "\n",
    "def create_subgraph_from_edges(g, edges):\n",
    "    # Create a new graph\n",
    "    g_sub = Graph(directed=False)\n",
    "\n",
    "    # Create a dictionary to map names to new vertices\n",
    "    name_to_new_vertex = {}\n",
    "\n",
    "    # Create a vertex property map for the names\n",
    "    name_property = g_sub.new_vertex_property(\"string\")\n",
    "\n",
    "    # Add vertices to the new graph\n",
    "    for edge in edges:\n",
    "        name1 = g.vertex_properties[\"artist_name\"][edge.source()]\n",
    "        name2 = g.vertex_properties[\"artist_name\"][edge.target()]\n",
    "        if name1 not in name_to_new_vertex:\n",
    "            v1 = g_sub.add_vertex()\n",
    "            name_property[v1] = name1\n",
    "            name_to_new_vertex[name1] = v1  # Map the name to the new vertex\n",
    "        if name2 not in name_to_new_vertex:\n",
    "            v2 = g_sub.add_vertex()\n",
    "            name_property[v2] = name2\n",
    "            name_to_new_vertex[name2] = v2  # Map the name to the new vertex\n",
    "\n",
    "    g_sub.vertex_properties[\"name\"] = name_property\n",
    "\n",
    "    # Create an edge property map for the weights\n",
    "    edge_weights = g_sub.new_edge_property(\"int\")\n",
    "\n",
    "    for edge in edges:\n",
    "        name1 = g.vertex_properties[\"artist_name\"][edge.source()]\n",
    "        name2 = g.vertex_properties[\"artist_name\"][edge.target()]\n",
    "        edge_sub = g_sub.add_edge(name_to_new_vertex[name1], name_to_new_vertex[name2])\n",
    "        edge_weights[edge_sub] = g.edge_properties[\"weight\"][edge]\n",
    "\n",
    "    g_sub.edge_properties[\"weight\"] = edge_weights\n",
    "\n",
    "    return g_sub"
   ]
  },
  {
   "cell_type": "markdown",
   "metadata": {},
   "source": [
    "We construct a networks: `g_double` which only has edges between artists that share 2+ announcements"
   ]
  },
  {
   "cell_type": "code",
   "execution_count": 7,
   "metadata": {},
   "outputs": [
    {
     "ename": "NameError",
     "evalue": "name 'g' is not defined",
     "output_type": "error",
     "traceback": [
      "\u001b[1;31m---------------------------------------------------------------------------\u001b[0m",
      "\u001b[1;31mNameError\u001b[0m                                 Traceback (most recent call last)",
      "Cell \u001b[1;32mIn[7], line 3\u001b[0m\n\u001b[0;32m      1\u001b[0m \u001b[38;5;66;03m#Construct g2: a subgraph of g with only edges with weight > 1, using create_subgraph_from_names\u001b[39;00m\n\u001b[1;32m----> 3\u001b[0m g2 \u001b[38;5;241m=\u001b[39m create_subgraph_from_edges(\u001b[43mg\u001b[49m, [edge \u001b[38;5;28;01mfor\u001b[39;00m edge \u001b[38;5;129;01min\u001b[39;00m g\u001b[38;5;241m.\u001b[39medges() \u001b[38;5;28;01mif\u001b[39;00m g\u001b[38;5;241m.\u001b[39medge_properties[\u001b[38;5;124m\"\u001b[39m\u001b[38;5;124mweight\u001b[39m\u001b[38;5;124m\"\u001b[39m][edge] \u001b[38;5;241m>\u001b[39m \u001b[38;5;241m1\u001b[39m])\n",
      "\u001b[1;31mNameError\u001b[0m: name 'g' is not defined"
     ]
    }
   ],
   "source": [
    "#Construct g_doubles: a subgraph of g with only edges with weight > 1, using create_subgraph_from_names\n",
    "g_doubles = create_subgraph_from_edges(g, [edge for edge in g.edges() if g.edge_properties[\"weight\"][edge] > 1])"
   ]
  },
  {
   "cell_type": "code",
   "execution_count": null,
   "metadata": {},
   "outputs": [],
   "source": [
    "state = minimize_nested_blockmodel_dl(g_double)\n",
    "state.draw(output=\"block_model_doubles.png\")"
   ]
  },
  {
   "cell_type": "markdown",
   "metadata": {},
   "source": [
    "The other network is even smaller. It is the network of those artists, that appear in the *PainterPalette* dataset (there is typically a lot of information about these artists). Roughly ~1000"
   ]
  },
  {
   "cell_type": "code",
   "execution_count": 3,
   "metadata": {},
   "outputs": [],
   "source": [
    "import pandas as pd\n",
    "\n",
    "url = \"https://raw.githubusercontent.com/me9hanics/PainterPalette/main/PainterPalette.csv\"\n",
    "artists = pd.read_csv(url)"
   ]
  },
  {
   "cell_type": "code",
   "execution_count": null,
   "metadata": {},
   "outputs": [],
   "source": [
    "#Find the intersection of the artists in the graph and the artists in the dataset\n",
    "artists_in_graph = set(artist_name[v] for v in g.vertices())\n",
    "artists_in_dataset = set(artists['artist'])\n",
    "artists_in_both = artists_in_graph.intersection(artists_in_dataset)\n",
    "\n",
    "print(len(artists_in_both))"
   ]
  },
  {
   "cell_type": "code",
   "execution_count": 4,
   "metadata": {},
   "outputs": [
    {
     "ename": "NameError",
     "evalue": "name 'g' is not defined",
     "output_type": "error",
     "traceback": [
      "\u001b[1;31m---------------------------------------------------------------------------\u001b[0m",
      "\u001b[1;31mNameError\u001b[0m                                 Traceback (most recent call last)",
      "Cell \u001b[1;32mIn[4], line 36\u001b[0m\n\u001b[0;32m     33\u001b[0m     \u001b[38;5;28;01mreturn\u001b[39;00m g_sub\n\u001b[0;32m     35\u001b[0m \u001b[38;5;66;03m# Create a subgraph from the artists in both the graph and the dataset\u001b[39;00m\n\u001b[1;32m---> 36\u001b[0m g_sub \u001b[38;5;241m=\u001b[39m create_subgraph_from_names(\u001b[43mg\u001b[49m, artists_in_both)\n",
      "\u001b[1;31mNameError\u001b[0m: name 'g' is not defined"
     ]
    }
   ],
   "source": [
    "g_selected = create_subgraph_from_names(g, artists_in_both, artist_to_vertex)\n",
    "print(g_selected.num_edges())"
   ]
  },
  {
   "cell_type": "markdown",
   "metadata": {},
   "source": [
    "Let's fit a blockmodel on them to see if we can find some things in common in communities:"
   ]
  },
  {
   "cell_type": "code",
   "execution_count": null,
   "metadata": {},
   "outputs": [],
   "source": [
    "state = minimize_nested_blockmodel_dl(g_selected)\n",
    "state.draw(output=\"images/artists_selected_block_model.png\") #SVG is nicer, but this would take too long to render"
   ]
  }
 ],
 "metadata": {
  "kernelspec": {
   "display_name": "Python 3",
   "language": "python",
   "name": "python3"
  },
  "language_info": {
   "codemirror_mode": {
    "name": "ipython",
    "version": 3
   },
   "file_extension": ".py",
   "mimetype": "text/x-python",
   "name": "python",
   "nbconvert_exporter": "python",
   "pygments_lexer": "ipython3",
   "version": "3.10.11"
  }
 },
 "nbformat": 4,
 "nbformat_minor": 2
}
