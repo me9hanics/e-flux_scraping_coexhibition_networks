{
 "cells": [
  {
   "cell_type": "markdown",
   "metadata": {},
   "source": [
    "# Network building"
   ]
  },
  {
   "cell_type": "markdown",
   "metadata": {},
   "source": [
    "Based on artists sharing a common announcement/exhibition: using *announcements.json* / *announcements_contemporary.json* "
   ]
  },
  {
   "cell_type": "markdown",
   "metadata": {},
   "source": [
    "## Initial steps"
   ]
  },
  {
   "cell_type": "code",
   "execution_count": 1,
   "metadata": {},
   "outputs": [],
   "source": [
    "import json\n",
    "with open('data/artists_cleaned_v1.txt', 'r', encoding='utf-8') as f:\n",
    "    artists = f.read().splitlines()\n",
    "\n",
    "with open('data/announcements.json', 'r', encoding='utf-8') as f:\n",
    "    announcements = json.load(f)"
   ]
  },
  {
   "cell_type": "markdown",
   "metadata": {},
   "source": [
    "## 1) Network building"
   ]
  },
  {
   "cell_type": "markdown",
   "metadata": {},
   "source": [
    "Something like:\n",
    "\n",
    "- Add all artists (from the txt file) to a node in the graph\n",
    "- Run through all announcements, add edges between artists that share an announcement\n",
    "\n",
    "- Graph should be undirected + weighted, weight = number of announcements shared"
   ]
  },
  {
   "cell_type": "code",
   "execution_count": 2,
   "metadata": {},
   "outputs": [],
   "source": [
    "import graph_tool as gt\n",
    "from graph_tool import inference"
   ]
  },
  {
   "cell_type": "code",
   "execution_count": null,
   "metadata": {},
   "outputs": [],
   "source": [
    "g = gt.Graph(directed=False)\n",
    "\n",
    "# Create a dictionary to map artist names to vertices\n",
    "artist_to_vertex = {}\n",
    "\n",
    "for announcement in announcements.values():\n",
    "    announcement_artists = announcement['artists']\n",
    "    for artist in artists:\n",
    "        # If the artist is not already in the graph, add them\n",
    "        if artist not in artist_to_vertex:\n",
    "            v = g.add_vertex()\n",
    "            artist_to_vertex[artist] = v"
   ]
  },
  {
   "cell_type": "markdown",
   "metadata": {},
   "source": [
    "Make an artist name from vertex dict(/flip out artist_to_vertex dictionary) so we can look up artists by vertex's property "
   ]
  },
  {
   "cell_type": "code",
   "execution_count": null,
   "metadata": {},
   "outputs": [],
   "source": [
    "artist_name = g.new_vertex_property(\"string\") #vertex_to_artist = {v: artist for artist, v in artist_to_vertex.items()}\n",
    "for v, artist in artist_to_vertex.items():\n",
    "    artist_name[v] = artist\n",
    "\n",
    "g.vertex_properties[\"artist_name\"] = artist_name"
   ]
  },
  {
   "cell_type": "markdown",
   "metadata": {},
   "source": [
    "Add edges:"
   ]
  },
  {
   "cell_type": "code",
   "execution_count": null,
   "metadata": {},
   "outputs": [],
   "source": [
    "edge_weights = {}\n",
    "for announcement in announcements.values():\n",
    "    artists_ = announcement['artists']\n",
    "    for artist1 in artists_: #Could also just use itertools.combinations\n",
    "        for artist2 in artists_:\n",
    "            if artist1 != artist2:\n",
    "                #First, check if the edge already exists (this returns the edge, or None)\n",
    "                edge = g.edge(artist_to_vertex[artist1], artist_to_vertex[artist2])\n",
    "                if edge:\n",
    "                    edge_weights[edge] += 1\n",
    "                else:\n",
    "                    edge = g.add_edge(artist_to_vertex[artist1], artist_to_vertex[artist2])\n",
    "                    edge_weights[edge] = 1"
   ]
  },
  {
   "cell_type": "markdown",
   "metadata": {},
   "source": [
    "Add edge weight property to the edges"
   ]
  },
  {
   "cell_type": "code",
   "execution_count": null,
   "metadata": {},
   "outputs": [],
   "source": [
    "weight = g.new_edge_property(\"int\")\n",
    "for edge, weight_value in edge_weights.items():\n",
    "    weight[edge] = weight_value\n",
    "g.edge_properties[\"weight\"] = weight"
   ]
  }
 ],
 "metadata": {
  "kernelspec": {
   "display_name": "Python 3",
   "language": "python",
   "name": "python3"
  },
  "language_info": {
   "codemirror_mode": {
    "name": "ipython",
    "version": 3
   },
   "file_extension": ".py",
   "mimetype": "text/x-python",
   "name": "python",
   "nbconvert_exporter": "python",
   "pygments_lexer": "ipython3",
   "version": "3.11.6"
  }
 },
 "nbformat": 4,
 "nbformat_minor": 2
}
