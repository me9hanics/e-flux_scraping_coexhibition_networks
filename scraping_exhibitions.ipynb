{
 "cells": [
  {
   "cell_type": "markdown",
   "metadata": {},
   "source": [
    "## Getting the artist's exhibitions (announcements related to him)"
   ]
  },
  {
   "cell_type": "code",
   "execution_count": 2,
   "metadata": {},
   "outputs": [],
   "source": [
    "import html\n",
    "import requests\n",
    "from bs4 import BeautifulSoup\n",
    "\n",
    "artist = \"A.K. Burns\"\n",
    "url = f\"https://www.e-flux.com/announcements/?c[]=Contemporary%20Art&p[]={artist}\" #Could replace %20 with a space"
   ]
  },
  {
   "cell_type": "code",
   "execution_count": 1,
   "metadata": {},
   "outputs": [],
   "source": [
    "import scraping_functions"
   ]
  },
  {
   "cell_type": "code",
   "execution_count": 3,
   "metadata": {},
   "outputs": [],
   "source": [
    "artist = \"Hans Ulrich Obrist\"\n",
    "html = scraping_functions.get_html_of_artist(artist)\n",
    "soup = BeautifulSoup(html, 'html.parser')"
   ]
  },
  {
   "cell_type": "markdown",
   "metadata": {},
   "source": [
    "The HTML we get back:"
   ]
  },
  {
   "cell_type": "code",
   "execution_count": 167,
   "metadata": {},
   "outputs": [
    {
     "name": "stdout",
     "output_type": "stream",
     "text": [
      "html\n",
      "\n",
      "\n",
      "<html lang=\"en\" xml:lang=\"en\" xmlns=\"http://www.w3.org/1999/xhtml\">\n",
      "<head>\n",
      "<meta content=\"text/html;charset=utf-8\" http-equiv=\"Content-Type\"/>\n",
      "<meta content=\"IE=edge\" http-equiv=\"X-UA-Compatible\"/>\n",
      "<meta content=\"width=device-width, initial-scale=1, maximum-scale=1, minimum-scale=1\" name=\"viewport\"/>\n",
      "<title>Announcements - e-flux</title>\n",
      "<meta content=\"en\" name=\"DC.LANGUAGE\"/>\n",
      "<link href=\"/styles/cbplayer.css?v=20220809025938\" media=\"all\" rel=\"stylesheet\" type=\"text/css\"/>\n",
      "<link href=\"/styles/cblightbox.css?v=20210802045344\" media=\"all\" rel=\"stylesheet\" type=\"text/css\"/>\n",
      "<link href=\"/styles/daterangepicker.css\" media=\"all\" rel=\"stylesheet\" type=\"text/css\"/>\n",
      "<link href=\"/styles/main.css?v=20240226171903\" media=\"all\" rel=\"stylesheet\" type=\"text/css\"/>\n",
      "<meta content=\"article\" property=\"og:type\"/>\n",
      "<meta content=\"Announcements - e-flux\" property=\"og:title\"/>\n",
      "<meta content=\"summary_large_image\" name=\"twitter:card\"/>\n",
      "<meta content=\"Announcements - e-flux\" name=\"twitter:title\">\n",
      "<meta content=\"\n",
      "...\n"
     ]
    }
   ],
   "source": [
    "i = 0\n",
    "for line in soup:\n",
    "    print(str(line)[:1000])\n",
    "    i += 1\n",
    "    if i > 2:\n",
    "        break\n",
    "print(\"...\")"
   ]
  },
  {
   "cell_type": "markdown",
   "metadata": {},
   "source": [
    "--------------------------------------------------------------------------------------------"
   ]
  },
  {
   "cell_type": "markdown",
   "metadata": {},
   "source": [
    "- We need to find the exhibitions from the code.<br>\n",
    "Luckily, they seem to be stored all in the same format:"
   ]
  },
  {
   "cell_type": "markdown",
   "metadata": {},
   "source": [
    "Example of what we're looking for in the HTML code:\n",
    "\n",
    "```HTML\n",
    "\n",
    "<a class=\"preview-announcement__title\" href=\"/announcements/165278/lia-gangitano-to-receive-the-2018-audrey-irmas-award-for-curatorial-excellence/\">\n",
    "Lia Gangitano to receive the 2018 Audrey Irmas Award for Curatorial Excellence\n",
    "</a>\n",
    "\n",
    "\n",
    "or:\n",
    "\n",
    "<a class=\"preview-announcement__title\" href=\"/announcements/528799/rirkrit-tiravanijawe-don-t-recognise-what-we-don-t-see/\">\n",
    "Rirkrit Tiravanija<br/><em>We Don’t Recognise What We Don’t See</em>\n",
    "</a>\n",
    "```"
   ]
  },
  {
   "cell_type": "markdown",
   "metadata": {},
   "source": [
    "### **Get announcements: easy case**"
   ]
  },
  {
   "cell_type": "code",
   "execution_count": 3,
   "metadata": {},
   "outputs": [
    {
     "data": {
      "text/plain": [
       "[{'id': 507604,\n",
       "  'link': '/announcements/507604/sin-wai-kindreaming-the-end/',\n",
       "  'title_artists': 'Sin Wai Kin',\n",
       "  'title': 'Dreaming the End'},\n",
       " {'id': 531326,\n",
       "  'link': '/announcements/531326/suzanne-valadona-world-of-her-own/',\n",
       "  'title_artists': 'Suzanne Valadon',\n",
       "  'title': 'A World of Her Own'},\n",
       " {'id': 528799,\n",
       "  'link': '/announcements/528799/rirkrit-tiravanijawe-don-t-recognise-what-we-don-t-see/',\n",
       "  'title_artists': 'Rirkrit Tiravanija',\n",
       "  'title': 'We Don’t Recognise What We Don’t See'},\n",
       " {'id': 527878,\n",
       "  'link': '/announcements/527878/young-climate-prize-2023-winners/',\n",
       "  'title_artists': None,\n",
       "  'title': 'Young Climate Prize 2023 winners'},\n",
       " {'id': 513946,\n",
       "  'link': '/announcements/513946/50th-anniversary/',\n",
       "  'title_artists': None,\n",
       "  'title': '50th anniversary'},\n",
       " {'id': 508921,\n",
       "  'link': '/announcements/508921/hoffnung-hoffnung/',\n",
       "  'title_artists': None,\n",
       "  'title': 'HOFFNUNG? HOFFNUNG!'},\n",
       " {'id': 505131,\n",
       "  'link': '/announcements/505131/celebrating-15-years/',\n",
       "  'title_artists': None,\n",
       "  'title': 'Celebrating 15 years'},\n",
       " {'id': 506587,\n",
       "  'link': '/announcements/506587/exhibition-program-spring-summer-2023/',\n",
       "  'title_artists': None,\n",
       "  'title': 'Exhibition program spring/summer 2023'},\n",
       " {'id': 502068,\n",
       "  'link': '/announcements/502068/issue-341-forms-identities-winter-2022-23/',\n",
       "  'title_artists': None,\n",
       "  'title': 'Issue 341: FORMS/IDENTITIES winter 2022–23'},\n",
       " {'id': 504540,\n",
       "  'link': '/announcements/504540/gaetano-pesce-come-stai/',\n",
       "  'title_artists': None,\n",
       "  'title': 'Come Stai?'},\n",
       " {'id': 497241,\n",
       "  'link': '/announcements/497241/cao-feithe-new-angel/',\n",
       "  'title_artists': 'Cao Fei',\n",
       "  'title': 'The New Angel'},\n",
       " {'id': 488976,\n",
       "  'link': '/announcements/488976/issue-39-are-we-eternal-beings/',\n",
       "  'title_artists': None,\n",
       "  'title': 'Issue 39: Are We Eternal Beings?'},\n",
       " {'id': 494872,\n",
       "  'link': '/announcements/494872/eighth-edition-at-monnaie-de-paris/',\n",
       "  'title_artists': None,\n",
       "  'title': 'Eighth edition at Monnaie de Paris'},\n",
       " {'id': 494166,\n",
       "  'link': '/announcements/494166/kamala-ibrahim-ishagstates-of-oneness/',\n",
       "  'title_artists': 'Kamala Ibrahim Ishag',\n",
       "  'title': 'States of Oneness'},\n",
       " {'id': 492090,\n",
       "  'link': '/announcements/492090/sonia-balassanian-five-decades-in-the-making/',\n",
       "  'title_artists': None,\n",
       "  'title': 'Sonia Balassanian: Five Decades in the Making'},\n",
       " {'id': 482417,\n",
       "  'link': '/announcements/482417/call-for-applications-2023-art-explora-x-cit-internationale-des-arts-artist-residency-programme/',\n",
       "  'title_artists': None,\n",
       "  'title': 'Call for applications: 2023 Art Explora x Cité internationale des arts artist residency programme'},\n",
       " {'id': 484036,\n",
       "  'link': '/announcements/484036/september-2022/',\n",
       "  'title_artists': None,\n",
       "  'title': 'September 2022'},\n",
       " {'id': 468827,\n",
       "  'link': '/announcements/468827/ma-in-visual-arts-and-curatorial-studies-with-scholarship/',\n",
       "  'title_artists': None,\n",
       "  'title': 'MA in Visual Arts and Curatorial Studies with scholarship'},\n",
       " {'id': 476688,\n",
       "  'link': '/announcements/476688/keeping-time/',\n",
       "  'title_artists': None,\n",
       "  'title': 'Keeping Time'},\n",
       " {'id': 469013,\n",
       "  'link': '/announcements/469013/jam-session-in-words-and-sounds-for-yona-friedman/',\n",
       "  'title_artists': None,\n",
       "  'title': 'Jam Session in words and sounds for Yona Friedman'},\n",
       " {'id': 461832,\n",
       "  'link': '/announcements/461832/worldbuilding/',\n",
       "  'title_artists': None,\n",
       "  'title': 'WORLDBUILDING'},\n",
       " {'id': 461826,\n",
       "  'link': '/announcements/461826/issue-38-the-generational-issue/',\n",
       "  'title_artists': None,\n",
       "  'title': 'Issue 38: The Generational Issue'},\n",
       " {'id': 458510,\n",
       "  'link': '/announcements/458510/errthe-power-of-images/',\n",
       "  'title_artists': 'Erró',\n",
       "  'title': 'The Power of Images'},\n",
       " {'id': 460206,\n",
       "  'link': '/announcements/460206/dominique-gonzalez-foersteralienarium-5/',\n",
       "  'title_artists': 'Dominique Gonzalez-Foerster',\n",
       "  'title': 'Alienarium 5'},\n",
       " {'id': 458033,\n",
       "  'link': '/announcements/458033/master-mas-programs/',\n",
       "  'title_artists': None,\n",
       "  'title': 'Master/MAS programs'},\n",
       " {'id': 370650,\n",
       "  'link': '/announcements/370650/stano-filkoa-retrospective/',\n",
       "  'title_artists': 'Stano Filko',\n",
       "  'title': 'A Retrospective'},\n",
       " {'id': 448587,\n",
       "  'link': '/announcements/448587/damon-zucconi-ogr-award-winner/',\n",
       "  'title_artists': None,\n",
       "  'title': 'Damon Zucconi: OGR Award winner'},\n",
       " {'id': 447142,\n",
       "  'link': '/announcements/447142/2022-exhibition-program/',\n",
       "  'title_artists': None,\n",
       "  'title': '2022 exhibition program'},\n",
       " {'id': 440321,\n",
       "  'link': '/announcements/440321/this-language-that-is-every-stone/',\n",
       "  'title_artists': None,\n",
       "  'title': 'This language that is every stone'},\n",
       " {'id': 438980,\n",
       "  'link': '/announcements/438980/sublimi-anatomie-online-platform/',\n",
       "  'title_artists': None,\n",
       "  'title': 'Sublimi Anatomie online platform'}]"
      ]
     },
     "execution_count": 3,
     "metadata": {},
     "output_type": "execute_result"
    }
   ],
   "source": [
    "announcements = scraping_functions.get_announcements_of_artist(\"Hans Ulrich Obrist\") #May add: contemporary=True\n",
    "scraping_functions.process_announcements(announcements)"
   ]
  },
  {
   "cell_type": "markdown",
   "metadata": {},
   "source": [
    "<details><summary><u>Special cases that we need to consider:</u></summary>\n",
    "\n",
    "```Python\n",
    "t = \"\"\"\n",
    "<a class=\"preview-announcement__title\" href=\"/announcements/528799/rirkrit-tiravanijawe-don-t-recognise-what-we-don-t-see/\">\n",
    "Rirkrit Tiravanija<br/><em>We Don’t Recognise What We Don’t See</em>\n",
    "</a>\n",
    "\"\"\"\n",
    "soup = BeautifulSoup(t, \"html.parser\")\n",
    "\n",
    "# Find the 'em' tag\n",
    "em_tag = soup.find('em')\n",
    "# If the 'em' tag exists, extract its text\n",
    "name = em_tag.get_text() if em_tag else None\n",
    "```"
   ]
  },
  {
   "cell_type": "markdown",
   "metadata": {},
   "source": [
    "### **Get announcements: hard case**\n",
    "\n",
    "The problem is we can only gather maximum 30 exhibitions per artist this way, because the website only shows 30 exhibitions per artist if we don't scroll. We need to use something like Selenium to scroll the page and get all the exhibitions.\n",
    "\n",
    "We can use Selenium (see the function file):"
   ]
  },
  {
   "cell_type": "code",
   "execution_count": 4,
   "metadata": {},
   "outputs": [],
   "source": [
    "URL_Picasso = \"https://www.e-flux.com/announcements/?p[]=Pablo%20Picasso\"\n",
    "results = scraping_functions.scroll_scrape_website(URL_Picasso)"
   ]
  },
  {
   "cell_type": "code",
   "execution_count": 5,
   "metadata": {},
   "outputs": [
    {
     "name": "stdout",
     "output_type": "stream",
     "text": [
      "<html class=\"no-touch cb-lightbox-no-touch\" lang=\"en\" xml:lang=\"en\" xmlns=\"http://www.w3.org/1999/xhtml\"><head>\n",
      "<meta content=\"text/html;charset=utf-8\" http-equiv=\"Content-Type\"/>\n",
      "<meta content=\"IE=edge\" http-equiv=\"X-UA-Compatible\"/>\n",
      "<meta content=\"width=device-width, initial-scale=1, maximum-scale=1, minimum-scale=1\" name=\"viewport\"/>\n",
      "<title>Announcements - e-flux</title>\n",
      "<meta content=\"en\" name=\"DC.LANGUAGE\"/>\n",
      "<link href=\"/styles/cbplayer.css?v=20220809025938\" media=\"all\" rel=\"stylesheet\" type=\"text/css\"/>\n",
      "<link href=\"/styles/cblightbox.css?v=20210802045344\" media=\"all\" rel=\"stylesheet\" type=\"text/css\"/>\n",
      "<link href=\"/styles/daterangepicker.css\" media=\"all\" rel=\"stylesheet\" type=\"text/css\"/>\n",
      "<link href=\"/styles/main.css?v=20240226171903\" media=\"all\" rel=\"stylesheet\" type=\"text/css\"/>\n",
      "<meta content=\"article\" property=\"og:type\"/>\n",
      "<meta content=\"Announcements - e-flux\" property=\"og:title\"/>\n",
      "<meta content=\"summary_large_image\" name=\"twitter:card\"/>\n",
      "<meta content=\"Announcements - e-flux\" \n",
      "...\n"
     ]
    }
   ],
   "source": [
    "for line in results:\n",
    "    print(str(line)[:1000]) #Just to not have too much output printed\n",
    "    print(\"...\")\n",
    "    break"
   ]
  },
  {
   "cell_type": "code",
   "execution_count": 6,
   "metadata": {},
   "outputs": [
    {
     "data": {
      "text/plain": [
       "177"
      ]
     },
     "execution_count": 6,
     "metadata": {},
     "output_type": "execute_result"
    }
   ],
   "source": [
    "announcements = (scraping_functions.get_announcements_html(results))\n",
    "len(announcements)"
   ]
  },
  {
   "cell_type": "markdown",
   "metadata": {},
   "source": [
    "Works with Picasso, we got 177 out of 177 exhibitions"
   ]
  },
  {
   "cell_type": "markdown",
   "metadata": {},
   "source": [
    "<details><summary><u> Case when we want to click a \"Load more\" button (don't need it for artists' announcement scraping) </u></summary>\n",
    "\n",
    "```python\n",
    "\n",
    "from selenium import webdriver\n",
    "from selenium.webdriver.common.by import By\n",
    "from selenium.webdriver.support.ui import WebDriverWait\n",
    "from selenium.webdriver.support import expected_conditions as EC\n",
    "from bs4 import BeautifulSoup\n",
    "import time\n",
    "\n",
    "# Create a new instance of the Firefox driver\n",
    "driver = webdriver.Firefox()\n",
    "\n",
    "# Go to your page url\n",
    "url_Picasso = \"https://www.e-flux.com/announcements/?p[]=Pablo%20Picasso\"\n",
    "driver.get(url_Picasso)\n",
    "\n",
    "# Wait for the \"Load more\" button to become clickable\n",
    "wait = WebDriverWait(driver, 10)\n",
    "\n",
    "while True:\n",
    "    try:\n",
    "        # Wait until the \"Load more\" button is clickable, and then click it\n",
    "        load_more_button = wait.until(EC.element_to_be_clickable((By.XPATH, '//button[text()=\"Load more\"]')))\n",
    "        load_more_button.click()\n",
    "\n",
    "        # Wait for the page to load\n",
    "        time.sleep(2)\n",
    "    except Exception as e:\n",
    "        # If an error occurs, that probably means there's no more \"Load more\" button\n",
    "        break\n",
    "\n",
    "# Now you can parse the page source with BeautifulSoup\n",
    "soup = BeautifulSoup(driver.page_source, 'html.parser')\n",
    "\n",
    "# Remember to close the driver\n",
    "driver.quit()\n",
    "\n",
    "```"
   ]
  },
  {
   "cell_type": "code",
   "execution_count": 7,
   "metadata": {},
   "outputs": [],
   "source": [
    "announcements_picasso = scraping_functions.process_announcements(announcements)"
   ]
  },
  {
   "cell_type": "code",
   "execution_count": 8,
   "metadata": {},
   "outputs": [
    {
     "data": {
      "text/plain": [
       "[{'id': 515809,\n",
       "  'link': '/announcements/515809/picasso-sculptor-matter-and-body/',\n",
       "  'title_artists': None,\n",
       "  'title': 'Picasso Sculptor: Matter and Body'},\n",
       " {'id': 512737,\n",
       "  'link': '/announcements/512737/chagall-matisse-mir-made-in-paris/',\n",
       "  'title_artists': None,\n",
       "  'title': 'Chagall, Matisse, Miró: Made in Paris'},\n",
       " {'id': 552019,\n",
       "  'link': '/announcements/552019/picasso-ceramics/',\n",
       "  'title_artists': None,\n",
       "  'title': 'Picasso Ceramics'},\n",
       " {'id': 510210,\n",
       "  'link': '/announcements/510210/jammie-holmesmake-the-revolution-irresistible/',\n",
       "  'title_artists': 'Jammie Holmes',\n",
       "  'title': 'Make the Revolution Irresistible'},\n",
       " {'id': 509314,\n",
       "  'link': '/announcements/509314/outstanding/',\n",
       "  'title_artists': None,\n",
       "  'title': 'Outstanding!'},\n",
       " {'id': 530487,\n",
       "  'link': '/announcements/530487/picasso-untitled/',\n",
       "  'title_artists': None,\n",
       "  'title': 'Picasso: Untitled'},\n",
       " {'id': 534375,\n",
       "  'link': '/announcements/534375/call-for-applications-artistic-director/',\n",
       "  'title_artists': None,\n",
       "  'title': 'Call for applications: Artistic Director'},\n",
       " {'id': 509744,\n",
       "  'link': '/announcements/509744/no-feeling-is-final-the-skopje-solidarity-collection/',\n",
       "  'title_artists': None,\n",
       "  'title': 'No Feeling Is Final. The Skopje Solidarity Collection'},\n",
       " {'id': 515789,\n",
       "  'link': '/announcements/515789/transformers/',\n",
       "  'title_artists': None,\n",
       "  'title': 'Transformers'},\n",
       " {'id': 509391,\n",
       "  'link': '/announcements/509391/unexpected-partners-self-taught-art-and-modernism-in-interwar-america/',\n",
       "  'title_artists': None,\n",
       "  'title': 'Unexpected Partners: Self-Taught Art and Modernism in Interwar America'}]"
      ]
     },
     "execution_count": 8,
     "metadata": {},
     "output_type": "execute_result"
    }
   ],
   "source": [
    "announcements_picasso[0:10]"
   ]
  },
  {
   "cell_type": "markdown",
   "metadata": {},
   "source": [
    "### Next step:\n",
    "\n",
    "-Also collect announcement date, and some subtitle (these are not part of the announcement `<div>`, but separately, above the announcement's `div`)"
   ]
  },
  {
   "cell_type": "markdown",
   "metadata": {},
   "source": [
    "## Collect exhibitions of all artists\n",
    "\n"
   ]
  },
  {
   "cell_type": "markdown",
   "metadata": {},
   "source": [
    "Maybe for a first step, we collect the data for artists in `artists_contemporary_cleaned_v1.txt`? If we just get these types of exhibitions by them, then we only have to use Selenium twice:\n",
    "- \"Contemporary Art\"\n",
    "- \"Data & Information\"\n",
    "- \"Installation\" \n",
    "- \"Mixed Media\"\n",
    "- \"Posthumanism\"\n",
    "- \"Postmodernism\"\n",
    "- \"Technology\"\n",
    "\n",
    "(I'd think these are mostly the contemporary categories on the website, feel free to add more). For these cases, only 2 artists have over 30 exhibitions in these categories: Hans Ulrich Obrist (36) and Olafur Eliasson (34). We can just use simple scraping for other artists.<br>\n",
    "URL for these categories: https://www.e-flux.com/announcements/?c[]=Contemporary%20Art&c[]=Data%20%26%20Information&c[]=Installation&c[]=Mixed%20Media&c[]=Posthumanism&c[]=Postmodernism&c[]=Technology\n"
   ]
  },
  {
   "cell_type": "code",
   "execution_count": null,
   "metadata": {},
   "outputs": [],
   "source": [
    "#TODO"
   ]
  }
 ],
 "metadata": {
  "kernelspec": {
   "display_name": "Python 3",
   "language": "python",
   "name": "python3"
  },
  "language_info": {
   "codemirror_mode": {
    "name": "ipython",
    "version": 3
   },
   "file_extension": ".py",
   "mimetype": "text/x-python",
   "name": "python",
   "nbconvert_exporter": "python",
   "pygments_lexer": "ipython3",
   "version": "3.10.11"
  }
 },
 "nbformat": 4,
 "nbformat_minor": 2
}
