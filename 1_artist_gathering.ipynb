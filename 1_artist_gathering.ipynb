{
 "cells": [
  {
   "cell_type": "markdown",
   "metadata": {},
   "source": [
    "# Gathering artist names"
   ]
  },
  {
   "cell_type": "markdown",
   "metadata": {},
   "source": [
    "The text containing artist names was taken from the JavaScript code of the page, and was saved in the sources file."
   ]
  },
  {
   "cell_type": "markdown",
   "metadata": {},
   "source": [
    "### All artists:"
   ]
  },
  {
   "cell_type": "code",
   "execution_count": 1,
   "metadata": {},
   "outputs": [],
   "source": [
    "with open('sources/js_artists_curators_all.txt', 'r', encoding=\"utf-8\") as f: #Using UTF-8 is very important!\n",
    "    html = f.read()"
   ]
  },
  {
   "cell_type": "markdown",
   "metadata": {},
   "source": [
    "Parse it:"
   ]
  },
  {
   "cell_type": "code",
   "execution_count": 2,
   "metadata": {},
   "outputs": [
    {
     "name": "stdout",
     "output_type": "stream",
     "text": [
      "<span class=\"filter-item-clickable js-filter-item\" data-filter=\"A.J. Lode Janssens\" data-id=\"1\" data-name=\"p\">\n",
      "<span class=\"filter-item__title\">A.J. Lode Janssens</span> <span class=\"filter-item__size\">1</span></span>\n"
     ]
    }
   ],
   "source": [
    "from bs4 import BeautifulSoup\n",
    "\n",
    "soup = BeautifulSoup(html, 'html.parser')\n",
    "lines  = soup.find_all('span', {'class': 'filter-item-clickable js-filter-item'})\n",
    "print(lines[0])"
   ]
  },
  {
   "cell_type": "markdown",
   "metadata": {},
   "source": [
    "We just take the \"data-filter\" (tag) attribute of the divs, because that includes the artist's name."
   ]
  },
  {
   "cell_type": "code",
   "execution_count": 3,
   "metadata": {},
   "outputs": [],
   "source": [
    "artists = [line['data-filter'] for line in lines]"
   ]
  },
  {
   "cell_type": "code",
   "execution_count": 4,
   "metadata": {},
   "outputs": [
    {
     "data": {
      "text/plain": [
       "'A.J. Lode Janssens'"
      ]
     },
     "execution_count": 4,
     "metadata": {},
     "output_type": "execute_result"
    }
   ],
   "source": [
    "artists[0]"
   ]
  },
  {
   "cell_type": "markdown",
   "metadata": {},
   "source": [
    "Save the names in a separate file:"
   ]
  },
  {
   "cell_type": "code",
   "execution_count": 21,
   "metadata": {},
   "outputs": [],
   "source": [
    "with open('data/eflux_artists.txt', 'w', encoding=\"utf-8\") as f:\n",
    "    f.write('\\n'.join(artists))\n",
    "    #.join() is good for only placing characters/strings between elements, not at the end nor beginning"
   ]
  },
  {
   "cell_type": "markdown",
   "metadata": {},
   "source": [
    "That was simple (although some problems arise, more about that later). Let's do it for only the artists marked as contemporary too, and the ones \"assumably contemporary\" (note: none of these are a good indicator of who did contemporary art):"
   ]
  },
  {
   "cell_type": "markdown",
   "metadata": {},
   "source": [
    "### Tagged contemporary artists:"
   ]
  },
  {
   "cell_type": "code",
   "execution_count": 22,
   "metadata": {},
   "outputs": [],
   "source": [
    "with open('sources/js_artists_curators_contemporary.txt', 'r', encoding=\"utf-8\") as f: #Using UTF-8 is very important!\n",
    "    html = f.read()\n",
    "soup = BeautifulSoup(html, 'html.parser')\n",
    "lines = soup.find_all('span', {'class': 'filter-item-clickable js-filter-item'})\n",
    "artists_contemporary = [line['data-filter'] for line in lines]\n",
    "with open('data/eflux_artists_contemporary.txt', 'w', encoding=\"utf-8\") as f:\n",
    "    f.write('\\n'.join(artists_contemporary)) "
   ]
  },
  {
   "cell_type": "markdown",
   "metadata": {},
   "source": [
    "### Assumably contemporary artists:\n",
    "\n",
    "These are artists collected under the categories \"Contemporary Art\", \"Data & Information\", \"Installation\", \"Mixed Media\", \"Posthumanism\", \"Postmodernism\" and \"Technology\".\n",
    "One can access this sub-category via this [this URL](https://www.e-flux.com/announcements/?c[]=Contemporary%20Art&c[]=Data%20%26%20Information&c[]=Installation&c[]=Mixed%20Media&c[]=Posthumanism&c[]=Postmodernism&c[]=Technology)."
   ]
  },
  {
   "cell_type": "code",
   "execution_count": 23,
   "metadata": {},
   "outputs": [],
   "source": [
    "with open('sources/js_artists_curators_contemporary_extended.txt', 'r', encoding=\"utf-8\") as f: #Using UTF-8 is very important!\n",
    "    html = f.read()\n",
    "soup = BeautifulSoup(html, 'html.parser')\n",
    "lines = soup.find_all('span', {'class': 'filter-item-clickable js-filter-item'})\n",
    "artists_contemporary_extended = [line['data-filter'] for line in lines]\n",
    "with open('data/eflux_artists_contemporary_extended.txt', 'w', encoding=\"utf-8\") as f:\n",
    "    f.write('\\n'.join(artists_contemporary_extended))"
   ]
  },
  {
   "cell_type": "markdown",
   "metadata": {},
   "source": [
    "### Extending the artist list:"
   ]
  },
  {
   "cell_type": "markdown",
   "metadata": {},
   "source": [
    "There is a problem however. When loading the website to gather all artists, only 20000 appear (and in fact, scrolling does not give more options), therefore `artists` only collects artists till the letter P (more precisely, till artist \"PT\")."
   ]
  },
  {
   "cell_type": "code",
   "execution_count": 24,
   "metadata": {},
   "outputs": [
    {
     "data": {
      "text/plain": [
       "['PORTIKUS',\n",
       " 'PRATT Institute',\n",
       " 'PRAXES',\n",
       " 'PRH',\n",
       " 'PS',\n",
       " 'PS1',\n",
       " 'PSA',\n",
       " 'PSM',\n",
       " 'PT',\n",
       " '!Mediengruppe Bitnik',\n",
       " '(LA)HORDE',\n",
       " '(Un)usual Business',\n",
       " '*foundationClass',\n",
       " '3as4',\n",
       " '4space',\n",
       " '9eme collectif des Sans Papier',\n",
       " '18th Street Arts Center',\n",
       " '98weeks Belgrade',\n",
       " '1000 BCE',\n",
       " ':mentalKLINIK']"
      ]
     },
     "execution_count": 24,
     "metadata": {},
     "output_type": "execute_result"
    }
   ],
   "source": [
    "artists[-20:]"
   ]
  },
  {
   "cell_type": "markdown",
   "metadata": {},
   "source": [
    "(The last few are special character names starting names, but there is nothing with \"Q\" or \"R\" and so on in the list.)"
   ]
  },
  {
   "cell_type": "markdown",
   "metadata": {},
   "source": [
    "But the \"assumably contemporary\" artists have less than 20000 artists, so they have artists with starting letter R, S, T ... We could extend the list of e-flux artists by adding the \"assumably contemporary extended\" artists not contained in our \"all artists\" dataset (so basically the ones which didn't make it to the first 20000) to the list of all artists."
   ]
  },
  {
   "cell_type": "code",
   "execution_count": 25,
   "metadata": {},
   "outputs": [],
   "source": [
    "import numpy\n",
    "\n",
    "#artists_contemporary_extended_lower = [artist.lower() for artist in artists_contemporary_extended]\n",
    "#This is because there are some artists that are in both lists, but with different capitalization (Kaufmann Repetto, for example)\n",
    "#As of now, this is kept as is, later for querying we can combine instances\n",
    "artists_extended = (numpy.union1d(artists, artists_contemporary_extended))"
   ]
  },
  {
   "cell_type": "code",
   "execution_count": 26,
   "metadata": {},
   "outputs": [
    {
     "data": {
      "text/plain": [
       "22285"
      ]
     },
     "execution_count": 26,
     "metadata": {},
     "output_type": "execute_result"
    }
   ],
   "source": [
    "len(artists_extended)"
   ]
  },
  {
   "cell_type": "markdown",
   "metadata": {},
   "source": [
    "Save the combined list:"
   ]
  },
  {
   "cell_type": "code",
   "execution_count": null,
   "metadata": {},
   "outputs": [],
   "source": [
    "with open('data/eflux_artists.txt', 'w', encoding=\"utf-8\") as f:\n",
    "    f.write('\\n'.join(artists_extended))"
   ]
  },
  {
   "cell_type": "markdown",
   "metadata": {},
   "source": [
    "## Further steps with this data:\n",
    "\n",
    "Get how many announcement each artist has (also found in the JavaScript code).<br>\n",
    "For just contemporary cases, we have <30 for everyone, so we don't need Selenium for this, for the extended contemporary list, we only need it in two cases: \"Olafur Eliasson\" (34) and \"Hans Ulrich Obrist\" (36).<br>\n",
    "In the next notebook, we "
   ]
  }
 ],
 "metadata": {
  "kernelspec": {
   "display_name": "Python 3",
   "language": "python",
   "name": "python3"
  },
  "language_info": {
   "codemirror_mode": {
    "name": "ipython",
    "version": 3
   },
   "file_extension": ".py",
   "mimetype": "text/x-python",
   "name": "python",
   "nbconvert_exporter": "python",
   "pygments_lexer": "ipython3",
   "version": "3.10.11"
  }
 },
 "nbformat": 4,
 "nbformat_minor": 2
}
