{
 "cells": [
  {
   "cell_type": "code",
   "execution_count": 86,
   "id": "9543528c-0a90-4129-b872-39589d08a694",
   "metadata": {},
   "outputs": [],
   "source": [
    "import pandas as pd\n",
    "import numpy as np\n",
    "import requests\n",
    "import json\n",
    "import scraping_functions\n",
    "import locale\n",
    "from graph_tool.all import *\n",
    "from datetime import datetime\n",
    "from bs4 import BeautifulSoup\n",
    "from collections import Counter\n",
    "locale.setlocale(locale.LC_TIME, 'en_US.UTF-8');"
   ]
  },
  {
   "cell_type": "code",
   "execution_count": 87,
   "id": "aa4ab050-02f1-4e82-b1af-6b757f0cd3a9",
   "metadata": {},
   "outputs": [],
   "source": [
    "def filt_mus(x):\n",
    "    try:\n",
    "        return 'mus' in x.lower()\n",
    "    except AttributeError:\n",
    "        return False\n"
   ]
  },
  {
   "cell_type": "code",
   "execution_count": 88,
   "id": "ad541165-b7bc-477f-8fe2-166bc58cf974",
   "metadata": {},
   "outputs": [],
   "source": [
    "with open('data/announcements.json') as file:\n",
    "    anns = json.load(file)\n",
    "\n",
    "for id in anns.keys():\n",
    "    anns[id]['id'] = id\n",
    "anns_list = [value for value in anns.values()]\n",
    "df = pd.json_normalize(anns_list)\n",
    "df.set_index('id', inplace=True)\n",
    "df.drop('title_artists', inplace=True, axis=1)\n",
    "df.dropna(inplace=True)\n",
    "df['date'] = df.announcement_date.apply(lambda x: datetime.strptime(x, '%B %d, %Y'))\n",
    "# nodes = list(df.subtitle.value_counts().index)\n",
    "nodes = list(df.subtitle[df.subtitle.apply(filt_mus)].value_counts().index)\n",
    "nodes_dict = {nodes[i]: i for i in range(len(nodes))}"
   ]
  },
  {
   "cell_type": "code",
   "execution_count": 90,
   "id": "b239b463-4d6e-4383-a100-0ec8c2203599",
   "metadata": {},
   "outputs": [],
   "source": [
    "with open('data/artist_announcements_dict.json') as file:\n",
    "    arti = json.load(file)\n",
    "    \n",
    "'''\n",
    "all_edges = []\n",
    "for artist in arti:\n",
    "    ann_list = artist['announcements']\n",
    "    ann_list.sort(key = lambda x: datetime.strptime(x['announcement_date'], '%B %d, %Y'))\n",
    "    all_edges.extend([(ann_list[i]['subtitle'], ann_list[i+1]['subtitle']) for i in range(len(ann_list)-1)])\n",
    "'''\n",
    "\n",
    "all_edges = []\n",
    "for artist in arti:\n",
    "    ann_list = [x for x in artist['announcements'] if filt_mus(x['subtitle'])]\n",
    "    ann_list.sort(key = lambda x: datetime.strptime(x['announcement_date'], '%B %d, %Y'))\n",
    "    all_edges.extend([(ann_list[i]['subtitle'], ann_list[i+1]['subtitle']) for i in range(len(ann_list)-1)])\n",
    "\n",
    "\n",
    "\n",
    "edges_names_weights_d = dict(Counter(all_edges))\n",
    "edges_names_l = list(edges_names_weights_d.keys())\n",
    "edges_id_weights_d = {(nodes_dict[key[0]], nodes_dict[key[1]]) : v for key, v in edges_names_weights_d.items() }\n",
    "edges_id_l = list(edges_id_weights_d.keys())"
   ]
  },
  {
   "cell_type": "code",
   "execution_count": 121,
   "id": "39492a12-e191-46fd-bc4b-75ffd2d8e438",
   "metadata": {},
   "outputs": [
    {
     "ename": "ValueError",
     "evalue": "value must be of type PropertyMap, not <class 'numpy.ndarray'>",
     "output_type": "error",
     "traceback": [
      "\u001b[0;31m---------------------------------------------------------------------------\u001b[0m",
      "\u001b[0;31mValueError\u001b[0m                                Traceback (most recent call last)",
      "Cell \u001b[0;32mIn[121], line 14\u001b[0m\n\u001b[1;32m     11\u001b[0m     g\u001b[38;5;241m.\u001b[39mep\u001b[38;5;241m.\u001b[39mcount[e] \u001b[38;5;241m=\u001b[39m edges_id_weights_d[(\u001b[38;5;28mint\u001b[39m(e\u001b[38;5;241m.\u001b[39msource()), \u001b[38;5;28mint\u001b[39m(e\u001b[38;5;241m.\u001b[39mtarget()))]\n\u001b[1;32m     13\u001b[0m g\u001b[38;5;241m.\u001b[39mvp\u001b[38;5;241m.\u001b[39mindeg \u001b[38;5;241m=\u001b[39m g\u001b[38;5;241m.\u001b[39mnew_vertex_property(\u001b[38;5;124m'\u001b[39m\u001b[38;5;124mint\u001b[39m\u001b[38;5;124m'\u001b[39m)\n\u001b[0;32m---> 14\u001b[0m \u001b[43mg\u001b[49m\u001b[38;5;241;43m.\u001b[39;49m\u001b[43mvp\u001b[49m\u001b[38;5;241;43m.\u001b[39;49m\u001b[43mingeg\u001b[49m \u001b[38;5;241m=\u001b[39m g\u001b[38;5;241m.\u001b[39mget_in_degrees(g\u001b[38;5;241m.\u001b[39mget_vertices())\n\u001b[1;32m     16\u001b[0m graph_draw(extract_largest_component(g), output_size\u001b[38;5;241m=\u001b[39m(\u001b[38;5;241m2000\u001b[39m,\u001b[38;5;241m2000\u001b[39m),\n\u001b[1;32m     17\u001b[0m            edge_pen_width \u001b[38;5;241m=\u001b[39m prop_to_size(g\u001b[38;5;241m.\u001b[39mep\u001b[38;5;241m.\u001b[39mcount, mi\u001b[38;5;241m=\u001b[39m\u001b[38;5;241m1\u001b[39m, ma\u001b[38;5;241m=\u001b[39m\u001b[38;5;241m20\u001b[39m),\n\u001b[1;32m     18\u001b[0m            vertex_size \u001b[38;5;241m=\u001b[39m prop_to_size(g\u001b[38;5;241m.\u001b[39mvp\u001b[38;5;241m.\u001b[39mindeg, mi\u001b[38;5;241m=\u001b[39m\u001b[38;5;241m5\u001b[39m, ma\u001b[38;5;241m=\u001b[39m\u001b[38;5;241m50\u001b[39m))\n",
      "File \u001b[0;32m~/anaconda3/envs/gt/lib/python3.12/site-packages/graph_tool/__init__.py:1564\u001b[0m, in \u001b[0;36mPropertyDict.__setattr__\u001b[0;34m(self, attr, val)\u001b[0m\n\u001b[1;32m   1563\u001b[0m \u001b[38;5;28;01mdef\u001b[39;00m \u001b[38;5;21m__setattr__\u001b[39m(\u001b[38;5;28mself\u001b[39m, attr, val):\n\u001b[0;32m-> 1564\u001b[0m     \u001b[38;5;28;01mreturn\u001b[39;00m \u001b[38;5;28;43mself\u001b[39;49m\u001b[38;5;241;43m.\u001b[39;49m\u001b[38;5;21;43m__setitem__\u001b[39;49m\u001b[43m(\u001b[49m\u001b[43mattr\u001b[49m\u001b[43m,\u001b[49m\u001b[43m \u001b[49m\u001b[43mval\u001b[49m\u001b[43m)\u001b[49m\n",
      "File \u001b[0;32m~/anaconda3/envs/gt/lib/python3.12/site-packages/graph_tool/__init__.py:1490\u001b[0m, in \u001b[0;36mPropertyDict.__setitem__\u001b[0;34m(self, key, val)\u001b[0m\n\u001b[1;32m   1488\u001b[0m \u001b[38;5;28;01melse\u001b[39;00m:\n\u001b[1;32m   1489\u001b[0m     \u001b[38;5;28;01mif\u001b[39;00m \u001b[38;5;129;01mnot\u001b[39;00m \u001b[38;5;28misinstance\u001b[39m(val, PropertyMap):\n\u001b[0;32m-> 1490\u001b[0m         \u001b[38;5;28;01mraise\u001b[39;00m \u001b[38;5;167;01mValueError\u001b[39;00m(\u001b[38;5;124m\"\u001b[39m\u001b[38;5;124mvalue must be of type PropertyMap, not \u001b[39m\u001b[38;5;132;01m%s\u001b[39;00m\u001b[38;5;124m\"\u001b[39m \u001b[38;5;241m%\u001b[39m \u001b[38;5;28mstr\u001b[39m(\u001b[38;5;28mtype\u001b[39m(val)))\n\u001b[1;32m   1491\u001b[0m     \u001b[38;5;28;01mif\u001b[39;00m val\u001b[38;5;241m.\u001b[39mkey_type() \u001b[38;5;241m!=\u001b[39m \u001b[38;5;28mself\u001b[39m\u001b[38;5;241m.\u001b[39m__t:\n\u001b[1;32m   1492\u001b[0m         \u001b[38;5;28;01mdef\u001b[39;00m \u001b[38;5;21mname\u001b[39m(t):\n",
      "\u001b[0;31mValueError\u001b[0m: value must be of type PropertyMap, not <class 'numpy.ndarray'>"
     ]
    }
   ],
   "source": [
    "g = Graph()\n",
    "g.add_vertex(len(nodes))\n",
    "g.vp.name = g.new_vertex_property('string')\n",
    "\n",
    "for i, v in enumerate(g.vertices()):\n",
    "    g.vp.name[v] = nodes[i]\n",
    "\n",
    "g.add_edge_list(edges_id_l)\n",
    "g.ep.count = g.new_edge_property('int')\n",
    "for e in g.edges():\n",
    "    g.ep.count[e] = edges_id_weights_d[(int(e.source()), int(e.target()))]\n",
    "\n",
    "g.vp.indeg = g.new_vertex_property('int')\n",
    "g.vp.ingeg = g.get_in_degrees(g.get_vertices())\n",
    "\n",
    "graph_draw(extract_largest_component(g), output_size=(2000,2000),\n",
    "           edge_pen_width = prop_to_size(g.ep.count, mi=1, ma=20),\n",
    "           vertex_size = prop_to_size(g.vp.indeg, mi=5, ma=50))\n"
   ]
  },
  {
   "cell_type": "code",
   "execution_count": 92,
   "id": "6f6c8d0a-f215-47c9-a1db-6a214cb8d617",
   "metadata": {},
   "outputs": [
    {
     "data": {
      "text/plain": [
       "<bound method Graph.vertices of <Graph object, directed, with 5358 vertices and 110372 edges, 1 internal vertex property, 1 internal edge property, at 0x31cc73290>>"
      ]
     },
     "execution_count": 92,
     "metadata": {},
     "output_type": "execute_result"
    }
   ],
   "source": [
    "g.vertices"
   ]
  }
 ],
 "metadata": {
  "kernelspec": {
   "display_name": "Python 3 (ipykernel)",
   "language": "python",
   "name": "python3"
  },
  "language_info": {
   "codemirror_mode": {
    "name": "ipython",
    "version": 3
   },
   "file_extension": ".py",
   "mimetype": "text/x-python",
   "name": "python",
   "nbconvert_exporter": "python",
   "pygments_lexer": "ipython3",
   "version": "3.12.0"
  }
 },
 "nbformat": 4,
 "nbformat_minor": 5
}
