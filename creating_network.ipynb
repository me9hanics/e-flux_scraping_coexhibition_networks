{
 "cells": [
  {
   "cell_type": "code",
   "execution_count": 1,
   "metadata": {},
   "outputs": [],
   "source": [
    "from graph_tool.all import *\n",
    "import itertools"
   ]
  },
  {
   "cell_type": "code",
   "execution_count": 4,
   "metadata": {},
   "outputs": [],
   "source": [
    "import json\n",
    "\n",
    "with open('data/announcements.json', 'r') as file:\n",
    "    json_data = json.load(file)\n"
   ]
  },
  {
   "cell_type": "code",
   "execution_count": 5,
   "metadata": {},
   "outputs": [],
   "source": [
    "from graph_tool.all import Graph\n",
    "\n",
    "# Initialize an undirected graph\n",
    "g = Graph(directed=False)\n",
    "\n",
    "# Property maps for artist names and co-exhibition counts\n",
    "artist_names = g.new_vertex_property(\"string\")\n",
    "co_exhibition_count = g.new_edge_property(\"int\")\n",
    "\n",
    "# Mapping artist names to vertices, to avoid duplicates\n",
    "artist_to_vertex = {}\n",
    "\n",
    "for exhibition in json_data.values():\n",
    "    artists = exhibition[\"artists\"]\n",
    "    \n",
    "    # Create a vertex for each unique artist\n",
    "    for artist in artists:\n",
    "        if artist not in artist_to_vertex:\n",
    "            v = g.add_vertex()\n",
    "            artist_names[v] = artist\n",
    "            artist_to_vertex[artist] = v\n",
    "\n",
    "# Add edges between artists who have exhibited together\n",
    "for exhibition in json_data.values():\n",
    "    artists = exhibition[\"artists\"]\n",
    "    \n",
    "    # For each pair of artists, add an edge or update the count\n",
    "    for i in range(len(artists)):\n",
    "        for j in range(i+1, len(artists)):\n",
    "            artist1 = artists[i]\n",
    "            artist2 = artists[j]\n",
    "            \n",
    "            v1 = artist_to_vertex[artist1]\n",
    "            v2 = artist_to_vertex[artist2]\n",
    "            \n",
    "            # Check if an edge already exists\n",
    "            edge = g.edge(v1, v2, add_missing=False)\n",
    "            if edge is None:\n",
    "                # Add new edge with co-exhibition count = 1\n",
    "                edge = g.add_edge(v1, v2)\n",
    "                co_exhibition_count[edge] = 1\n",
    "            else:\n",
    "                # Increase co-exhibition count\n",
    "                co_exhibition_count[edge] += 1\n",
    "\n",
    "# Assign the property maps to the graph\n",
    "g.vertex_properties[\"artist_names\"] = artist_names\n",
    "g.edge_properties[\"co_exhibition_count\"] = co_exhibition_count\n",
    "\n",
    "# Now g is your graph, ready for analysis and visualization."
   ]
  },
  {
   "cell_type": "code",
   "execution_count": 8,
   "metadata": {},
   "outputs": [
    {
     "name": "stdout",
     "output_type": "stream",
     "text": [
      "Number of artists (vertices): 20938\n",
      "Number of co-exhibitions (edges): 1149352\n"
     ]
    },
    {
     "data": {
      "text/plain": [
       "<VertexPropertyMap object with value type 'vector<double>', for Graph 0x162f5de50, at 0x15625bc80>"
      ]
     },
     "execution_count": 8,
     "metadata": {},
     "output_type": "execute_result"
    }
   ],
   "source": [
    "from graph_tool.all import graph_draw, label_largest_component, betweenness, GraphView\n",
    "\n",
    "\n",
    "# Basic analysis example: Print the number of vertices and edges\n",
    "print(f\"Number of artists (vertices): {g.num_vertices()}\")\n",
    "print(f\"Number of co-exhibitions (edges): {g.num_edges()}\")\n",
    "\n",
    "# Identify and label the largest component (for visualization)\n",
    "largest_component_mask = label_largest_component(g)\n",
    "largest_component = GraphView(g, vfilt=largest_component_mask)\n",
    "\n",
    "# Calculate betweenness centrality (as an example of centrality measures)\n",
    "vertex_betweenness, edge_betweenness = betweenness(g)\n",
    "\n",
    "# Visualization\n",
    "# Adjust the vertex/edge sizes and colors based on properties such as centrality\n",
    "graph_draw(g, vertex_fill_color=vertex_betweenness, edge_pen_width=edge_betweenness,\n",
    "           output_size=(1000, 1000), output=\"co-exhibition_network.pdf\")\n"
   ]
  },
  {
   "cell_type": "markdown",
   "metadata": {},
   "source": [
    "There is one large component. Let's visualize only the largest component."
   ]
  },
  {
   "cell_type": "code",
   "execution_count": 9,
   "metadata": {},
   "outputs": [
    {
     "data": {
      "text/plain": [
       "<VertexPropertyMap object with value type 'vector<double>', for Graph 0x167c82000, at 0x167c82b40>"
      ]
     },
     "execution_count": 9,
     "metadata": {},
     "output_type": "execute_result"
    }
   ],
   "source": [
    "from graph_tool.all import graph_draw, GraphView, label_largest_component\n",
    "\n",
    "# Assuming 'g' is your graph with all nodes and edges already added\n",
    "\n",
    "# Create a filtered view of g that contains only the largest component\n",
    "largest_component_filter = label_largest_component(g)\n",
    "largest_component = GraphView(g, vfilt=largest_component_filter)\n",
    "\n",
    "# Now, visualize the largest component\n",
    "# You can adjust visualization parameters according to your needs\n",
    "graph_draw(largest_component,\n",
    "           vertex_text=largest_component.vertex_properties[\"artist_names\"],\n",
    "           vertex_font_size=10,\n",
    "           output_size=(1000, 1000),\n",
    "           output=\"largest_component_visualization.pdf\")\n"
   ]
  },
  {
   "cell_type": "markdown",
   "metadata": {},
   "source": [
    "The names are making the nodes too big. Let's get rid of them"
   ]
  },
  {
   "cell_type": "code",
   "execution_count": 12,
   "metadata": {},
   "outputs": [
    {
     "data": {
      "text/plain": [
       "<VertexPropertyMap object with value type 'vector<double>', for Graph 0x167c82d20, at 0x167c81f40>"
      ]
     },
     "execution_count": 12,
     "metadata": {},
     "output_type": "execute_result"
    }
   ],
   "source": [
    "from graph_tool.all import graph_draw, GraphView, label_largest_component\n",
    "\n",
    "# Assuming 'g' is your graph with all nodes and edges already added\n",
    "\n",
    "# Create a filtered view of g that contains only the largest component\n",
    "largest_component_filter = label_largest_component(g)\n",
    "largest_component = GraphView(g, vfilt=largest_component_filter)\n",
    "\n",
    "# Visualize the largest component without labels and with smaller nodes\n",
    "graph_draw(largest_component,\n",
    "           vertex_size=10,  # Adjust vertex size here for smaller nodes\n",
    "           output_size=(1000, 1000),\n",
    "           output=\"largest_component_visualization_no_labels.pdf\")\n"
   ]
  }
 ],
 "metadata": {
  "kernelspec": {
   "display_name": "gt",
   "language": "python",
   "name": "python3"
  },
  "language_info": {
   "codemirror_mode": {
    "name": "ipython",
    "version": 3
   },
   "file_extension": ".py",
   "mimetype": "text/x-python",
   "name": "python",
   "nbconvert_exporter": "python",
   "pygments_lexer": "ipython3",
   "version": "3.12.0"
  }
 },
 "nbformat": 4,
 "nbformat_minor": 2
}
